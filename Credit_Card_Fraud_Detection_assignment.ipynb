{
  "nbformat": 4,
  "nbformat_minor": 0,
  "metadata": {
    "kernelspec": {
      "display_name": "Python 3",
      "language": "python",
      "name": "python3"
    },
    "language_info": {
      "codemirror_mode": {
        "name": "ipython",
        "version": 3
      },
      "file_extension": ".py",
      "mimetype": "text/x-python",
      "name": "python",
      "nbconvert_exporter": "python",
      "pygments_lexer": "ipython3",
      "version": "3.7.3"
    },
    "colab": {
      "name": "Credit Card Fraud Detection assignment.ipynb",
      "provenance": [],
      "collapsed_sections": []
    }
  },
  "cells": [
    {
      "cell_type": "markdown",
      "metadata": {
        "id": "3XO5wMjG54bD"
      },
      "source": [
        "# Credit Card Fraud Detection::"
      ]
    },
    {
      "cell_type": "markdown",
      "metadata": {
        "id": "6tDmi57p54bM"
      },
      "source": [
        "Download dataset from this link:\n",
        "\n",
        "https://www.kaggle.com/mlg-ulb/creditcardfraud"
      ]
    },
    {
      "cell_type": "markdown",
      "metadata": {
        "id": "XgNUl8PV54bO"
      },
      "source": [
        "# Description about dataset::"
      ]
    },
    {
      "cell_type": "markdown",
      "metadata": {
        "id": "TIsYOqmL54bP"
      },
      "source": [
        "The datasets contains transactions made by credit cards in September 2013 by european cardholders.\n",
        "This dataset presents transactions that occurred in two days, where we have 492 frauds out of 284,807 transactions. The dataset is highly unbalanced, the positive class (frauds) account for 0.172% of all transactions.\n",
        "\n",
        "It contains only numerical input variables which are the result of a PCA transformation. Unfortunately, due to confidentiality issues, we cannot provide the original features and more background information about the data. Features V1, V2, … V28 are the principal components obtained with PCA, the only features which have not been transformed with PCA are 'Time' and 'Amount'. Feature 'Time' contains the seconds elapsed between each transaction and the first transaction in the dataset. The feature 'Amount' is the transaction Amount, this feature can be used for example-dependant cost-senstive learning. \n",
        "\n",
        "\n",
        "### Feature 'Class' is the response variable and it takes value 1 in case of fraud and 0 otherwise."
      ]
    },
    {
      "cell_type": "markdown",
      "metadata": {
        "id": "hD6Zd5Nv54bQ"
      },
      "source": [
        "# WORKFLOW :"
      ]
    },
    {
      "cell_type": "markdown",
      "metadata": {
        "id": "Iypo-g2v54bR"
      },
      "source": [
        "1.Load Data\n",
        "\n",
        "2.Check Missing Values ( If Exist ; Fill each record with mean of its feature )\n",
        "\n",
        "3.Standardized the Input Variables. \n",
        "\n",
        "4.Split into 50% Training(Samples,Labels) , 30% Test(Samples,Labels) and 20% Validation Data(Samples,Labels).\n",
        "\n",
        "5.Model : input Layer (No. of features ), 3 hidden layers including 10,8,6 unit & Output Layer with activation function relu/tanh (check by experiment).\n",
        "\n",
        "6.Compilation Step (Note : Its a Binary problem , select loss , metrics according to it)\n",
        "\n",
        "7.Train the Model with Epochs (100).\n",
        "\n",
        "8.If the model gets overfit tune your model by changing the units , No. of layers , epochs , add dropout layer or add Regularizer according to the need .\n",
        "\n",
        "9.Prediction should be > 92%\n",
        "10.Evaluation Step\n",
        "11Prediction\n"
      ]
    },
    {
      "cell_type": "markdown",
      "metadata": {
        "id": "eFq1-yf-54bS"
      },
      "source": [
        "# Task::"
      ]
    },
    {
      "cell_type": "markdown",
      "metadata": {
        "id": "2UhJ_Gcu54bT"
      },
      "source": [
        "## Identify fraudulent credit card transactions."
      ]
    },
    {
      "cell_type": "code",
      "metadata": {
        "id": "ZCFBmyGHIUn-"
      },
      "source": [
        "import numpy as np\n",
        "import pandas as pd\n",
        "import tensorflow as tf\n",
        "import seaborn as sns\n",
        "import matplotlib.pyplot as plt\n",
        "from tensorflow.keras.models import Sequential\n",
        "from tensorflow.keras.layers import Dense\n",
        "from tensorflow.keras.optimizers import Adam, SGD\n",
        "\n",
        "\n"
      ],
      "execution_count": 96,
      "outputs": []
    },
    {
      "cell_type": "code",
      "metadata": {
        "colab": {
          "base_uri": "https://localhost:8080/"
        },
        "id": "OejJYCe954bX",
        "outputId": "29402a4a-8089-4818-fa16-58f14e8a531c"
      },
      "source": [
        "from google.colab import drive\n",
        "drive.mount('/content/gdrive')"
      ],
      "execution_count": 97,
      "outputs": [
        {
          "output_type": "stream",
          "text": [
            "Drive already mounted at /content/gdrive; to attempt to forcibly remount, call drive.mount(\"/content/gdrive\", force_remount=True).\n"
          ],
          "name": "stdout"
        }
      ]
    },
    {
      "cell_type": "code",
      "metadata": {
        "id": "-JWs1dny54bY"
      },
      "source": [
        "data = pd.read_csv('/content/gdrive/MyDrive/creditcard.csv')"
      ],
      "execution_count": 98,
      "outputs": []
    },
    {
      "cell_type": "code",
      "metadata": {
        "colab": {
          "base_uri": "https://localhost:8080/"
        },
        "id": "9KbjyzfS54bZ",
        "outputId": "9ad7aa28-d48b-438b-974b-fc46fe496581"
      },
      "source": [
        "data.shape"
      ],
      "execution_count": 99,
      "outputs": [
        {
          "output_type": "execute_result",
          "data": {
            "text/plain": [
              "(284807, 31)"
            ]
          },
          "metadata": {
            "tags": []
          },
          "execution_count": 99
        }
      ]
    },
    {
      "cell_type": "code",
      "metadata": {
        "colab": {
          "base_uri": "https://localhost:8080/"
        },
        "id": "O-uUC74a54ba",
        "outputId": "a001f9da-53d4-4b5c-fc78-bf1aa91683e9"
      },
      "source": [
        "data.isnull().sum()"
      ],
      "execution_count": 100,
      "outputs": [
        {
          "output_type": "execute_result",
          "data": {
            "text/plain": [
              "Time      0\n",
              "V1        0\n",
              "V2        0\n",
              "V3        0\n",
              "V4        0\n",
              "V5        0\n",
              "V6        0\n",
              "V7        0\n",
              "V8        0\n",
              "V9        0\n",
              "V10       0\n",
              "V11       0\n",
              "V12       0\n",
              "V13       0\n",
              "V14       0\n",
              "V15       0\n",
              "V16       0\n",
              "V17       0\n",
              "V18       0\n",
              "V19       0\n",
              "V20       0\n",
              "V21       0\n",
              "V22       0\n",
              "V23       0\n",
              "V24       0\n",
              "V25       0\n",
              "V26       0\n",
              "V27       0\n",
              "V28       0\n",
              "Amount    0\n",
              "Class     0\n",
              "dtype: int64"
            ]
          },
          "metadata": {
            "tags": []
          },
          "execution_count": 100
        }
      ]
    },
    {
      "cell_type": "code",
      "metadata": {
        "colab": {
          "base_uri": "https://localhost:8080/",
          "height": 226
        },
        "id": "lcCDSes2D57-",
        "outputId": "5e23beb7-2a46-46bc-d6b9-66244aa738e0"
      },
      "source": [
        "data.head()"
      ],
      "execution_count": 101,
      "outputs": [
        {
          "output_type": "execute_result",
          "data": {
            "text/html": [
              "<div>\n",
              "<style scoped>\n",
              "    .dataframe tbody tr th:only-of-type {\n",
              "        vertical-align: middle;\n",
              "    }\n",
              "\n",
              "    .dataframe tbody tr th {\n",
              "        vertical-align: top;\n",
              "    }\n",
              "\n",
              "    .dataframe thead th {\n",
              "        text-align: right;\n",
              "    }\n",
              "</style>\n",
              "<table border=\"1\" class=\"dataframe\">\n",
              "  <thead>\n",
              "    <tr style=\"text-align: right;\">\n",
              "      <th></th>\n",
              "      <th>Time</th>\n",
              "      <th>V1</th>\n",
              "      <th>V2</th>\n",
              "      <th>V3</th>\n",
              "      <th>V4</th>\n",
              "      <th>V5</th>\n",
              "      <th>V6</th>\n",
              "      <th>V7</th>\n",
              "      <th>V8</th>\n",
              "      <th>V9</th>\n",
              "      <th>V10</th>\n",
              "      <th>V11</th>\n",
              "      <th>V12</th>\n",
              "      <th>V13</th>\n",
              "      <th>V14</th>\n",
              "      <th>V15</th>\n",
              "      <th>V16</th>\n",
              "      <th>V17</th>\n",
              "      <th>V18</th>\n",
              "      <th>V19</th>\n",
              "      <th>V20</th>\n",
              "      <th>V21</th>\n",
              "      <th>V22</th>\n",
              "      <th>V23</th>\n",
              "      <th>V24</th>\n",
              "      <th>V25</th>\n",
              "      <th>V26</th>\n",
              "      <th>V27</th>\n",
              "      <th>V28</th>\n",
              "      <th>Amount</th>\n",
              "      <th>Class</th>\n",
              "    </tr>\n",
              "  </thead>\n",
              "  <tbody>\n",
              "    <tr>\n",
              "      <th>0</th>\n",
              "      <td>0.0</td>\n",
              "      <td>-1.359807</td>\n",
              "      <td>-0.072781</td>\n",
              "      <td>2.536347</td>\n",
              "      <td>1.378155</td>\n",
              "      <td>-0.338321</td>\n",
              "      <td>0.462388</td>\n",
              "      <td>0.239599</td>\n",
              "      <td>0.098698</td>\n",
              "      <td>0.363787</td>\n",
              "      <td>0.090794</td>\n",
              "      <td>-0.551600</td>\n",
              "      <td>-0.617801</td>\n",
              "      <td>-0.991390</td>\n",
              "      <td>-0.311169</td>\n",
              "      <td>1.468177</td>\n",
              "      <td>-0.470401</td>\n",
              "      <td>0.207971</td>\n",
              "      <td>0.025791</td>\n",
              "      <td>0.403993</td>\n",
              "      <td>0.251412</td>\n",
              "      <td>-0.018307</td>\n",
              "      <td>0.277838</td>\n",
              "      <td>-0.110474</td>\n",
              "      <td>0.066928</td>\n",
              "      <td>0.128539</td>\n",
              "      <td>-0.189115</td>\n",
              "      <td>0.133558</td>\n",
              "      <td>-0.021053</td>\n",
              "      <td>149.62</td>\n",
              "      <td>0</td>\n",
              "    </tr>\n",
              "    <tr>\n",
              "      <th>1</th>\n",
              "      <td>0.0</td>\n",
              "      <td>1.191857</td>\n",
              "      <td>0.266151</td>\n",
              "      <td>0.166480</td>\n",
              "      <td>0.448154</td>\n",
              "      <td>0.060018</td>\n",
              "      <td>-0.082361</td>\n",
              "      <td>-0.078803</td>\n",
              "      <td>0.085102</td>\n",
              "      <td>-0.255425</td>\n",
              "      <td>-0.166974</td>\n",
              "      <td>1.612727</td>\n",
              "      <td>1.065235</td>\n",
              "      <td>0.489095</td>\n",
              "      <td>-0.143772</td>\n",
              "      <td>0.635558</td>\n",
              "      <td>0.463917</td>\n",
              "      <td>-0.114805</td>\n",
              "      <td>-0.183361</td>\n",
              "      <td>-0.145783</td>\n",
              "      <td>-0.069083</td>\n",
              "      <td>-0.225775</td>\n",
              "      <td>-0.638672</td>\n",
              "      <td>0.101288</td>\n",
              "      <td>-0.339846</td>\n",
              "      <td>0.167170</td>\n",
              "      <td>0.125895</td>\n",
              "      <td>-0.008983</td>\n",
              "      <td>0.014724</td>\n",
              "      <td>2.69</td>\n",
              "      <td>0</td>\n",
              "    </tr>\n",
              "    <tr>\n",
              "      <th>2</th>\n",
              "      <td>1.0</td>\n",
              "      <td>-1.358354</td>\n",
              "      <td>-1.340163</td>\n",
              "      <td>1.773209</td>\n",
              "      <td>0.379780</td>\n",
              "      <td>-0.503198</td>\n",
              "      <td>1.800499</td>\n",
              "      <td>0.791461</td>\n",
              "      <td>0.247676</td>\n",
              "      <td>-1.514654</td>\n",
              "      <td>0.207643</td>\n",
              "      <td>0.624501</td>\n",
              "      <td>0.066084</td>\n",
              "      <td>0.717293</td>\n",
              "      <td>-0.165946</td>\n",
              "      <td>2.345865</td>\n",
              "      <td>-2.890083</td>\n",
              "      <td>1.109969</td>\n",
              "      <td>-0.121359</td>\n",
              "      <td>-2.261857</td>\n",
              "      <td>0.524980</td>\n",
              "      <td>0.247998</td>\n",
              "      <td>0.771679</td>\n",
              "      <td>0.909412</td>\n",
              "      <td>-0.689281</td>\n",
              "      <td>-0.327642</td>\n",
              "      <td>-0.139097</td>\n",
              "      <td>-0.055353</td>\n",
              "      <td>-0.059752</td>\n",
              "      <td>378.66</td>\n",
              "      <td>0</td>\n",
              "    </tr>\n",
              "    <tr>\n",
              "      <th>3</th>\n",
              "      <td>1.0</td>\n",
              "      <td>-0.966272</td>\n",
              "      <td>-0.185226</td>\n",
              "      <td>1.792993</td>\n",
              "      <td>-0.863291</td>\n",
              "      <td>-0.010309</td>\n",
              "      <td>1.247203</td>\n",
              "      <td>0.237609</td>\n",
              "      <td>0.377436</td>\n",
              "      <td>-1.387024</td>\n",
              "      <td>-0.054952</td>\n",
              "      <td>-0.226487</td>\n",
              "      <td>0.178228</td>\n",
              "      <td>0.507757</td>\n",
              "      <td>-0.287924</td>\n",
              "      <td>-0.631418</td>\n",
              "      <td>-1.059647</td>\n",
              "      <td>-0.684093</td>\n",
              "      <td>1.965775</td>\n",
              "      <td>-1.232622</td>\n",
              "      <td>-0.208038</td>\n",
              "      <td>-0.108300</td>\n",
              "      <td>0.005274</td>\n",
              "      <td>-0.190321</td>\n",
              "      <td>-1.175575</td>\n",
              "      <td>0.647376</td>\n",
              "      <td>-0.221929</td>\n",
              "      <td>0.062723</td>\n",
              "      <td>0.061458</td>\n",
              "      <td>123.50</td>\n",
              "      <td>0</td>\n",
              "    </tr>\n",
              "    <tr>\n",
              "      <th>4</th>\n",
              "      <td>2.0</td>\n",
              "      <td>-1.158233</td>\n",
              "      <td>0.877737</td>\n",
              "      <td>1.548718</td>\n",
              "      <td>0.403034</td>\n",
              "      <td>-0.407193</td>\n",
              "      <td>0.095921</td>\n",
              "      <td>0.592941</td>\n",
              "      <td>-0.270533</td>\n",
              "      <td>0.817739</td>\n",
              "      <td>0.753074</td>\n",
              "      <td>-0.822843</td>\n",
              "      <td>0.538196</td>\n",
              "      <td>1.345852</td>\n",
              "      <td>-1.119670</td>\n",
              "      <td>0.175121</td>\n",
              "      <td>-0.451449</td>\n",
              "      <td>-0.237033</td>\n",
              "      <td>-0.038195</td>\n",
              "      <td>0.803487</td>\n",
              "      <td>0.408542</td>\n",
              "      <td>-0.009431</td>\n",
              "      <td>0.798278</td>\n",
              "      <td>-0.137458</td>\n",
              "      <td>0.141267</td>\n",
              "      <td>-0.206010</td>\n",
              "      <td>0.502292</td>\n",
              "      <td>0.219422</td>\n",
              "      <td>0.215153</td>\n",
              "      <td>69.99</td>\n",
              "      <td>0</td>\n",
              "    </tr>\n",
              "  </tbody>\n",
              "</table>\n",
              "</div>"
            ],
            "text/plain": [
              "   Time        V1        V2        V3  ...       V27       V28  Amount  Class\n",
              "0   0.0 -1.359807 -0.072781  2.536347  ...  0.133558 -0.021053  149.62      0\n",
              "1   0.0  1.191857  0.266151  0.166480  ... -0.008983  0.014724    2.69      0\n",
              "2   1.0 -1.358354 -1.340163  1.773209  ... -0.055353 -0.059752  378.66      0\n",
              "3   1.0 -0.966272 -0.185226  1.792993  ...  0.062723  0.061458  123.50      0\n",
              "4   2.0 -1.158233  0.877737  1.548718  ...  0.219422  0.215153   69.99      0\n",
              "\n",
              "[5 rows x 31 columns]"
            ]
          },
          "metadata": {
            "tags": []
          },
          "execution_count": 101
        }
      ]
    },
    {
      "cell_type": "markdown",
      "metadata": {
        "id": "p7DVCMX8ZxhF"
      },
      "source": [
        "### Data Shuffling"
      ]
    },
    {
      "cell_type": "code",
      "metadata": {
        "id": "2JjJo138FUAD"
      },
      "source": [
        "data = data.sample(frac=1).reset_index(drop=True)"
      ],
      "execution_count": 102,
      "outputs": []
    },
    {
      "cell_type": "code",
      "metadata": {
        "colab": {
          "base_uri": "https://localhost:8080/",
          "height": 226
        },
        "id": "K2gaQsp6Z2TC",
        "outputId": "6bd6c973-26e7-42ab-fb92-16ceb0a4487c"
      },
      "source": [
        "data.head()"
      ],
      "execution_count": 103,
      "outputs": [
        {
          "output_type": "execute_result",
          "data": {
            "text/html": [
              "<div>\n",
              "<style scoped>\n",
              "    .dataframe tbody tr th:only-of-type {\n",
              "        vertical-align: middle;\n",
              "    }\n",
              "\n",
              "    .dataframe tbody tr th {\n",
              "        vertical-align: top;\n",
              "    }\n",
              "\n",
              "    .dataframe thead th {\n",
              "        text-align: right;\n",
              "    }\n",
              "</style>\n",
              "<table border=\"1\" class=\"dataframe\">\n",
              "  <thead>\n",
              "    <tr style=\"text-align: right;\">\n",
              "      <th></th>\n",
              "      <th>Time</th>\n",
              "      <th>V1</th>\n",
              "      <th>V2</th>\n",
              "      <th>V3</th>\n",
              "      <th>V4</th>\n",
              "      <th>V5</th>\n",
              "      <th>V6</th>\n",
              "      <th>V7</th>\n",
              "      <th>V8</th>\n",
              "      <th>V9</th>\n",
              "      <th>V10</th>\n",
              "      <th>V11</th>\n",
              "      <th>V12</th>\n",
              "      <th>V13</th>\n",
              "      <th>V14</th>\n",
              "      <th>V15</th>\n",
              "      <th>V16</th>\n",
              "      <th>V17</th>\n",
              "      <th>V18</th>\n",
              "      <th>V19</th>\n",
              "      <th>V20</th>\n",
              "      <th>V21</th>\n",
              "      <th>V22</th>\n",
              "      <th>V23</th>\n",
              "      <th>V24</th>\n",
              "      <th>V25</th>\n",
              "      <th>V26</th>\n",
              "      <th>V27</th>\n",
              "      <th>V28</th>\n",
              "      <th>Amount</th>\n",
              "      <th>Class</th>\n",
              "    </tr>\n",
              "  </thead>\n",
              "  <tbody>\n",
              "    <tr>\n",
              "      <th>0</th>\n",
              "      <td>78983.0</td>\n",
              "      <td>0.260973</td>\n",
              "      <td>-2.313863</td>\n",
              "      <td>-0.539756</td>\n",
              "      <td>-0.228495</td>\n",
              "      <td>-1.058129</td>\n",
              "      <td>0.374417</td>\n",
              "      <td>0.162362</td>\n",
              "      <td>0.036478</td>\n",
              "      <td>-1.013756</td>\n",
              "      <td>0.481190</td>\n",
              "      <td>1.290213</td>\n",
              "      <td>0.448564</td>\n",
              "      <td>-0.636163</td>\n",
              "      <td>0.543023</td>\n",
              "      <td>-0.088493</td>\n",
              "      <td>-2.087063</td>\n",
              "      <td>0.685033</td>\n",
              "      <td>0.384421</td>\n",
              "      <td>-1.060248</td>\n",
              "      <td>0.466992</td>\n",
              "      <td>-0.032221</td>\n",
              "      <td>-0.681389</td>\n",
              "      <td>-0.410288</td>\n",
              "      <td>-0.221058</td>\n",
              "      <td>0.037816</td>\n",
              "      <td>1.079924</td>\n",
              "      <td>-0.143544</td>\n",
              "      <td>0.070854</td>\n",
              "      <td>531.68</td>\n",
              "      <td>0</td>\n",
              "    </tr>\n",
              "    <tr>\n",
              "      <th>1</th>\n",
              "      <td>149521.0</td>\n",
              "      <td>1.971029</td>\n",
              "      <td>0.101474</td>\n",
              "      <td>-1.803507</td>\n",
              "      <td>0.535114</td>\n",
              "      <td>0.240016</td>\n",
              "      <td>-1.407008</td>\n",
              "      <td>0.385872</td>\n",
              "      <td>-0.439940</td>\n",
              "      <td>0.488870</td>\n",
              "      <td>-0.515656</td>\n",
              "      <td>-0.360613</td>\n",
              "      <td>0.391114</td>\n",
              "      <td>0.734392</td>\n",
              "      <td>-0.866036</td>\n",
              "      <td>0.837714</td>\n",
              "      <td>0.219148</td>\n",
              "      <td>0.304282</td>\n",
              "      <td>0.471777</td>\n",
              "      <td>-0.397766</td>\n",
              "      <td>-0.054257</td>\n",
              "      <td>0.224440</td>\n",
              "      <td>0.745347</td>\n",
              "      <td>-0.091432</td>\n",
              "      <td>-0.152259</td>\n",
              "      <td>0.278290</td>\n",
              "      <td>-0.102030</td>\n",
              "      <td>-0.007457</td>\n",
              "      <td>-0.022344</td>\n",
              "      <td>53.75</td>\n",
              "      <td>0</td>\n",
              "    </tr>\n",
              "    <tr>\n",
              "      <th>2</th>\n",
              "      <td>45375.0</td>\n",
              "      <td>1.216888</td>\n",
              "      <td>0.574737</td>\n",
              "      <td>-0.487968</td>\n",
              "      <td>1.170599</td>\n",
              "      <td>0.190012</td>\n",
              "      <td>-0.761536</td>\n",
              "      <td>0.116609</td>\n",
              "      <td>-0.005745</td>\n",
              "      <td>-0.137257</td>\n",
              "      <td>-0.475207</td>\n",
              "      <td>1.314610</td>\n",
              "      <td>-0.205720</td>\n",
              "      <td>-1.347351</td>\n",
              "      <td>-0.908439</td>\n",
              "      <td>0.551263</td>\n",
              "      <td>0.947604</td>\n",
              "      <td>0.596404</td>\n",
              "      <td>1.349628</td>\n",
              "      <td>-0.203743</td>\n",
              "      <td>-0.157075</td>\n",
              "      <td>-0.052103</td>\n",
              "      <td>-0.173230</td>\n",
              "      <td>-0.161466</td>\n",
              "      <td>-0.164674</td>\n",
              "      <td>0.662165</td>\n",
              "      <td>-0.320274</td>\n",
              "      <td>0.022758</td>\n",
              "      <td>0.041287</td>\n",
              "      <td>1.00</td>\n",
              "      <td>0</td>\n",
              "    </tr>\n",
              "    <tr>\n",
              "      <th>3</th>\n",
              "      <td>164256.0</td>\n",
              "      <td>2.027015</td>\n",
              "      <td>-0.600922</td>\n",
              "      <td>-1.052655</td>\n",
              "      <td>0.737600</td>\n",
              "      <td>-0.569147</td>\n",
              "      <td>-0.785292</td>\n",
              "      <td>-0.248199</td>\n",
              "      <td>-0.275615</td>\n",
              "      <td>-0.481998</td>\n",
              "      <td>1.051463</td>\n",
              "      <td>-1.256481</td>\n",
              "      <td>-0.165462</td>\n",
              "      <td>-0.023617</td>\n",
              "      <td>0.179691</td>\n",
              "      <td>-0.071862</td>\n",
              "      <td>-1.779771</td>\n",
              "      <td>-0.117805</td>\n",
              "      <td>1.315920</td>\n",
              "      <td>-1.359493</td>\n",
              "      <td>-0.616621</td>\n",
              "      <td>-0.017349</td>\n",
              "      <td>0.555889</td>\n",
              "      <td>-0.020392</td>\n",
              "      <td>-0.030081</td>\n",
              "      <td>0.258455</td>\n",
              "      <td>-0.313771</td>\n",
              "      <td>0.034163</td>\n",
              "      <td>-0.040582</td>\n",
              "      <td>50.00</td>\n",
              "      <td>0</td>\n",
              "    </tr>\n",
              "    <tr>\n",
              "      <th>4</th>\n",
              "      <td>163185.0</td>\n",
              "      <td>-1.660659</td>\n",
              "      <td>1.898361</td>\n",
              "      <td>-0.736685</td>\n",
              "      <td>-0.878018</td>\n",
              "      <td>-0.439088</td>\n",
              "      <td>-0.993323</td>\n",
              "      <td>1.151126</td>\n",
              "      <td>0.014037</td>\n",
              "      <td>1.167352</td>\n",
              "      <td>1.395377</td>\n",
              "      <td>-0.983832</td>\n",
              "      <td>-0.108543</td>\n",
              "      <td>-0.526268</td>\n",
              "      <td>-0.110363</td>\n",
              "      <td>-0.221549</td>\n",
              "      <td>-0.076261</td>\n",
              "      <td>-0.409069</td>\n",
              "      <td>-0.747064</td>\n",
              "      <td>-0.227263</td>\n",
              "      <td>0.485431</td>\n",
              "      <td>-0.530648</td>\n",
              "      <td>-0.731751</td>\n",
              "      <td>0.175891</td>\n",
              "      <td>-0.059957</td>\n",
              "      <td>-0.175114</td>\n",
              "      <td>0.154409</td>\n",
              "      <td>0.678029</td>\n",
              "      <td>0.161412</td>\n",
              "      <td>89.99</td>\n",
              "      <td>0</td>\n",
              "    </tr>\n",
              "  </tbody>\n",
              "</table>\n",
              "</div>"
            ],
            "text/plain": [
              "       Time        V1        V2        V3  ...       V27       V28  Amount  Class\n",
              "0   78983.0  0.260973 -2.313863 -0.539756  ... -0.143544  0.070854  531.68      0\n",
              "1  149521.0  1.971029  0.101474 -1.803507  ... -0.007457 -0.022344   53.75      0\n",
              "2   45375.0  1.216888  0.574737 -0.487968  ...  0.022758  0.041287    1.00      0\n",
              "3  164256.0  2.027015 -0.600922 -1.052655  ...  0.034163 -0.040582   50.00      0\n",
              "4  163185.0 -1.660659  1.898361 -0.736685  ...  0.678029  0.161412   89.99      0\n",
              "\n",
              "[5 rows x 31 columns]"
            ]
          },
          "metadata": {
            "tags": []
          },
          "execution_count": 103
        }
      ]
    },
    {
      "cell_type": "markdown",
      "metadata": {
        "id": "zc4423tZDtLT"
      },
      "source": [
        "### Splitting Training and Labels"
      ]
    },
    {
      "cell_type": "code",
      "metadata": {
        "id": "FXxuaHqR54ba"
      },
      "source": [
        "# Separating Input and Output Colmumns \n",
        "x = data.iloc[:, :-1].values  # Input Columns\n",
        "y = data.iloc[:, -1:].values # Output Columns \n"
      ],
      "execution_count": 104,
      "outputs": []
    },
    {
      "cell_type": "code",
      "metadata": {
        "colab": {
          "base_uri": "https://localhost:8080/"
        },
        "id": "9Kk5xh4G54ba",
        "outputId": "ef6c49b9-1184-483d-a30a-facdc586bd93"
      },
      "source": [
        "x.shape"
      ],
      "execution_count": 105,
      "outputs": [
        {
          "output_type": "execute_result",
          "data": {
            "text/plain": [
              "(284807, 30)"
            ]
          },
          "metadata": {
            "tags": []
          },
          "execution_count": 105
        }
      ]
    },
    {
      "cell_type": "code",
      "metadata": {
        "colab": {
          "base_uri": "https://localhost:8080/"
        },
        "id": "zzTs2x6r54bb",
        "outputId": "2d69eed7-9be3-4e85-f5d6-a4c72d0bab63"
      },
      "source": [
        "y.shape"
      ],
      "execution_count": 106,
      "outputs": [
        {
          "output_type": "execute_result",
          "data": {
            "text/plain": [
              "(284807, 1)"
            ]
          },
          "metadata": {
            "tags": []
          },
          "execution_count": 106
        }
      ]
    },
    {
      "cell_type": "code",
      "metadata": {
        "id": "7DuPufXfHLlE"
      },
      "source": [
        "# Installed imbalanced-learn in order to use SMOTE  \n",
        "# pip install -U imbalanced-learn"
      ],
      "execution_count": 107,
      "outputs": []
    },
    {
      "cell_type": "markdown",
      "metadata": {
        "id": "Qy6V2HDNJR6A"
      },
      "source": [
        "## As the data is very imbalanced, I have used SMOTE (Synthetic Minority Oversampling Technique) for oversampling"
      ]
    },
    {
      "cell_type": "code",
      "metadata": {
        "colab": {
          "base_uri": "https://localhost:8080/"
        },
        "id": "GBA__UwS54bb",
        "outputId": "7e893c65-fba1-4575-96f8-614053d48026"
      },
      "source": [
        "np.ravel(y)\n",
        "from imblearn.over_sampling import SMOTE\n",
        "\n",
        "sm = SMOTE(random_state = 42)\n",
        "\n",
        "x, y = sm.fit_resample(x, y)\n",
        "\n",
        "\n",
        "print (x.shape, y.shape)\n",
        "\n"
      ],
      "execution_count": 108,
      "outputs": [
        {
          "output_type": "stream",
          "text": [
            "/usr/local/lib/python3.7/dist-packages/sklearn/utils/validation.py:760: DataConversionWarning: A column-vector y was passed when a 1d array was expected. Please change the shape of y to (n_samples, ), for example using ravel().\n",
            "  y = column_or_1d(y, warn=True)\n",
            "/usr/local/lib/python3.7/dist-packages/sklearn/utils/deprecation.py:87: FutureWarning: Function safe_indexing is deprecated; safe_indexing is deprecated in version 0.22 and will be removed in version 0.24.\n",
            "  warnings.warn(msg, category=FutureWarning)\n"
          ],
          "name": "stderr"
        },
        {
          "output_type": "stream",
          "text": [
            "(568630, 30) (568630,)\n"
          ],
          "name": "stdout"
        }
      ]
    },
    {
      "cell_type": "code",
      "metadata": {
        "colab": {
          "base_uri": "https://localhost:8080/"
        },
        "id": "ptrX9PDlc7XE",
        "outputId": "9213c2aa-3cb6-4354-bfde-08cacee5ff2d"
      },
      "source": [
        "x = pd.DataFrame(x)\n",
        "y = pd.DataFrame(y)\n",
        "x.isnull().sum()"
      ],
      "execution_count": 109,
      "outputs": [
        {
          "output_type": "execute_result",
          "data": {
            "text/plain": [
              "0     0\n",
              "1     0\n",
              "2     0\n",
              "3     0\n",
              "4     0\n",
              "5     0\n",
              "6     0\n",
              "7     0\n",
              "8     0\n",
              "9     0\n",
              "10    0\n",
              "11    0\n",
              "12    0\n",
              "13    0\n",
              "14    0\n",
              "15    0\n",
              "16    0\n",
              "17    0\n",
              "18    0\n",
              "19    0\n",
              "20    0\n",
              "21    0\n",
              "22    0\n",
              "23    0\n",
              "24    0\n",
              "25    0\n",
              "26    0\n",
              "27    0\n",
              "28    0\n",
              "29    0\n",
              "dtype: int64"
            ]
          },
          "metadata": {
            "tags": []
          },
          "execution_count": 109
        }
      ]
    },
    {
      "cell_type": "markdown",
      "metadata": {
        "id": "qjm7AVXBNFNJ"
      },
      "source": [
        "### Splitting Train, Test, Validation Data"
      ]
    },
    {
      "cell_type": "code",
      "metadata": {
        "id": "_7-L73LP54bc",
        "colab": {
          "base_uri": "https://localhost:8080/"
        },
        "outputId": "0b0f634f-42ed-4a3c-d4ca-93568d64d723"
      },
      "source": [
        "def split_train_val_test(x, y, train, val, test):\n",
        "    x_rows, x_col = x.shape\n",
        "    y_rows = y.shape # Removed column temporarily \n",
        "    \n",
        "    train_start = 0\n",
        "    train_stop = int(x_rows*train)\n",
        "    \n",
        "    val_start = train_stop\n",
        "    val_stop = int(x_rows*train)+int(x_rows*val)\n",
        "    \n",
        "    test_start = val_stop\n",
        "    test_stop = None\n",
        "\n",
        "    x_train = x.iloc[train_start:train_stop,] # Extracting X_Training Data \n",
        "    x_val = x.iloc[val_start:val_stop,]\n",
        "    x_test = x.iloc[test_start:test_stop]\n",
        "    \n",
        "    y_train = y.iloc[train_start:train_stop,] # Extracting y_Training Data \n",
        "    y_val = y.iloc[val_start:val_stop,]\n",
        "    y_test = y.iloc[test_start:test_stop]\n",
        "    \n",
        "    #Splitting Desicription \n",
        "    desc = f'''Splitting Discription:\n",
        "    Training Data {int(train*100)}%\n",
        "    Validation Data {int(val*100)}%\n",
        "    Testing Data {int(val*100)}%\n",
        "    \n",
        "    Shape of Training Data {x.shape}\n",
        "    Shape of Target Data {y.shape}\n",
        "    \n",
        "    Shape of x_train {x_train.shape}\n",
        "    Shape of x_val {x_val.shape}\n",
        "    Shape of x_test {x_test.shape}\n",
        "     \n",
        "    Shape of y_train {y_train.shape}\n",
        "    Shape of y_val {y_val.shape}\n",
        "    Shape of y_test {y_test.shape}\n",
        "    \n",
        "    '''\n",
        "    \n",
        "    return x_train, x_val, x_test, y_train, y_val, y_test, desc\n",
        "\n",
        "\n",
        "\n",
        "x_train, x_val, x_test, y_train, y_val, y_test, desc = split_train_val_test(x,y,.5,.3,.2)\n",
        "print (desc)"
      ],
      "execution_count": 110,
      "outputs": [
        {
          "output_type": "stream",
          "text": [
            "Splitting Discription:\n",
            "    Training Data 50%\n",
            "    Validation Data 30%\n",
            "    Testing Data 30%\n",
            "    \n",
            "    Shape of Training Data (568630, 30)\n",
            "    Shape of Target Data (568630, 1)\n",
            "    \n",
            "    Shape of x_train (284315, 30)\n",
            "    Shape of x_val (170589, 30)\n",
            "    Shape of x_test (113726, 30)\n",
            "     \n",
            "    Shape of y_train (284315, 1)\n",
            "    Shape of y_val (170589, 1)\n",
            "    Shape of y_test (113726, 1)\n",
            "    \n",
            "    \n"
          ],
          "name": "stdout"
        }
      ]
    },
    {
      "cell_type": "markdown",
      "metadata": {
        "id": "ct-L7ZYy9TxP"
      },
      "source": [
        "### Normalization"
      ]
    },
    {
      "cell_type": "code",
      "metadata": {
        "id": "sLkB7Ah_9fr4"
      },
      "source": [
        "x_train = np.asarray(x_train).astype('float32')\n",
        "x_test = np.asarray(x_test).astype('float32')\n",
        "x_val = np.asarray(x_val).astype('float32')\n",
        "y_train = np.asarray(y_train).astype('float32')\n",
        "y_test = np.asarray(y_test).astype('float32')\n",
        "y_val = np.asarray(y_val).astype('float32')\n",
        "\n",
        "\n",
        "\n",
        "mean = x_train.mean(axis=0)\n",
        "x_train -= mean\n",
        "\n",
        "std = x_train.std(axis=0)\n",
        "\n",
        "x_test -= mean\n",
        "x_test /= std"
      ],
      "execution_count": 111,
      "outputs": []
    },
    {
      "cell_type": "markdown",
      "metadata": {
        "id": "l8BElSs7aY1l"
      },
      "source": [
        "### Creating Model"
      ]
    },
    {
      "cell_type": "code",
      "metadata": {
        "id": "N82KVeY6FcF0"
      },
      "source": [
        "from keras import models\n",
        "from keras import layers \n",
        "\n",
        "model = Sequential()\n",
        "model.add(Dense(10, activation='relu'))\n",
        "model.add(layers.Dropout(0.2))\n",
        "model.add(Dense(8, activation='relu'))\n",
        "model.add(layers.Dropout(0.2))\n",
        "model.add(Dense(6, activation='relu'))\n",
        "model.add(layers.Dropout(0.2))\n",
        "model.add(Dense(1, activation='sigmoid'))\n",
        "\n",
        "model.compile(optimizer='rmsprop',\n",
        "loss='binary_crossentropy',\n",
        "metrics=['acc'])\n"
      ],
      "execution_count": 112,
      "outputs": []
    },
    {
      "cell_type": "markdown",
      "metadata": {
        "id": "Ad_9Y-s3UfhL"
      },
      "source": [
        "### Training"
      ]
    },
    {
      "cell_type": "code",
      "metadata": {
        "id": "dplID_KJ54bc",
        "colab": {
          "base_uri": "https://localhost:8080/"
        },
        "outputId": "4b94858f-c808-4151-f0b2-ea567612989d"
      },
      "source": [
        "history = model.fit(x_train, y_train,epochs=100, validation_data =(x_val, y_val))"
      ],
      "execution_count": 113,
      "outputs": [
        {
          "output_type": "stream",
          "text": [
            "Epoch 1/100\n",
            "8885/8885 [==============================] - 16s 2ms/step - loss: 77.5211 - acc: 0.9604 - val_loss: 16.6698 - val_acc: 0.0029\n",
            "Epoch 2/100\n",
            "8885/8885 [==============================] - 15s 2ms/step - loss: 0.2570 - acc: 0.9973 - val_loss: 123.8370 - val_acc: 0.0029\n",
            "Epoch 3/100\n",
            "8885/8885 [==============================] - 15s 2ms/step - loss: 0.1455 - acc: 0.9977 - val_loss: 52.6060 - val_acc: 0.0029\n",
            "Epoch 4/100\n",
            "8885/8885 [==============================] - 15s 2ms/step - loss: 0.0466 - acc: 0.9975 - val_loss: 20.6639 - val_acc: 0.0029\n",
            "Epoch 5/100\n",
            "8885/8885 [==============================] - 15s 2ms/step - loss: 0.0295 - acc: 0.9975 - val_loss: 21.7852 - val_acc: 0.0029\n",
            "Epoch 6/100\n",
            "8885/8885 [==============================] - 15s 2ms/step - loss: 0.0267 - acc: 0.9976 - val_loss: 24.3893 - val_acc: 0.0029\n",
            "Epoch 7/100\n",
            "8885/8885 [==============================] - 15s 2ms/step - loss: 0.0303 - acc: 0.9977 - val_loss: 23.0455 - val_acc: 0.0029\n",
            "Epoch 8/100\n",
            "8885/8885 [==============================] - 15s 2ms/step - loss: 0.0275 - acc: 0.9975 - val_loss: 13.3962 - val_acc: 0.0029\n",
            "Epoch 9/100\n",
            "8885/8885 [==============================] - 15s 2ms/step - loss: 0.0269 - acc: 0.9980 - val_loss: 22.9988 - val_acc: 0.0029\n",
            "Epoch 10/100\n",
            "8885/8885 [==============================] - 15s 2ms/step - loss: 0.0269 - acc: 0.9980 - val_loss: 19.4717 - val_acc: 0.0029\n",
            "Epoch 11/100\n",
            "8885/8885 [==============================] - 15s 2ms/step - loss: 0.0269 - acc: 0.9977 - val_loss: 23.0190 - val_acc: 0.0029\n",
            "Epoch 12/100\n",
            "8885/8885 [==============================] - 15s 2ms/step - loss: 0.0329 - acc: 0.9976 - val_loss: 69.9159 - val_acc: 0.0029\n",
            "Epoch 13/100\n",
            "8885/8885 [==============================] - 15s 2ms/step - loss: 0.0362 - acc: 0.9978 - val_loss: 125.1099 - val_acc: 0.0029\n",
            "Epoch 14/100\n",
            "8885/8885 [==============================] - 15s 2ms/step - loss: 0.0472 - acc: 0.9979 - val_loss: 41.9167 - val_acc: 0.0029\n",
            "Epoch 15/100\n",
            "8885/8885 [==============================] - 15s 2ms/step - loss: 0.0313 - acc: 0.9977 - val_loss: 68.8385 - val_acc: 0.0029\n",
            "Epoch 16/100\n",
            "8885/8885 [==============================] - 15s 2ms/step - loss: 0.0405 - acc: 0.9979 - val_loss: 17.6159 - val_acc: 0.0029\n",
            "Epoch 17/100\n",
            "8885/8885 [==============================] - 15s 2ms/step - loss: 0.0317 - acc: 0.9980 - val_loss: 24.8278 - val_acc: 0.0029\n",
            "Epoch 18/100\n",
            "8885/8885 [==============================] - 15s 2ms/step - loss: 0.0308 - acc: 0.9974 - val_loss: 18.7079 - val_acc: 0.0029\n",
            "Epoch 19/100\n",
            "8885/8885 [==============================] - 15s 2ms/step - loss: 0.0356 - acc: 0.9971 - val_loss: 11.0131 - val_acc: 0.0029\n",
            "Epoch 20/100\n",
            "8885/8885 [==============================] - 15s 2ms/step - loss: 0.0513 - acc: 0.9970 - val_loss: 16.9517 - val_acc: 0.0029\n",
            "Epoch 21/100\n",
            "8885/8885 [==============================] - 15s 2ms/step - loss: 0.0412 - acc: 0.9971 - val_loss: 7.4254 - val_acc: 0.0029\n",
            "Epoch 22/100\n",
            "8885/8885 [==============================] - 15s 2ms/step - loss: 0.0134 - acc: 0.9983 - val_loss: 7.5640 - val_acc: 0.0029\n",
            "Epoch 23/100\n",
            "8885/8885 [==============================] - 15s 2ms/step - loss: 0.0128 - acc: 0.9984 - val_loss: 7.6681 - val_acc: 0.0029\n",
            "Epoch 24/100\n",
            "8885/8885 [==============================] - 15s 2ms/step - loss: 0.0142 - acc: 0.9983 - val_loss: 7.7784 - val_acc: 0.0029\n",
            "Epoch 25/100\n",
            "8885/8885 [==============================] - 15s 2ms/step - loss: 0.0147 - acc: 0.9982 - val_loss: 7.6393 - val_acc: 0.0029\n",
            "Epoch 26/100\n",
            "8885/8885 [==============================] - 15s 2ms/step - loss: 0.0141 - acc: 0.9983 - val_loss: 7.7511 - val_acc: 0.0029\n",
            "Epoch 27/100\n",
            "8885/8885 [==============================] - 15s 2ms/step - loss: 0.0152 - acc: 0.9981 - val_loss: 7.7904 - val_acc: 0.0029\n",
            "Epoch 28/100\n",
            "8885/8885 [==============================] - 15s 2ms/step - loss: 0.0157 - acc: 0.9981 - val_loss: 7.7981 - val_acc: 0.0029\n",
            "Epoch 29/100\n",
            "8885/8885 [==============================] - 15s 2ms/step - loss: 0.0150 - acc: 0.9982 - val_loss: 7.6435 - val_acc: 0.0029\n",
            "Epoch 30/100\n",
            "8885/8885 [==============================] - 15s 2ms/step - loss: 0.0146 - acc: 0.9983 - val_loss: 7.5965 - val_acc: 0.0029\n",
            "Epoch 31/100\n",
            "8885/8885 [==============================] - 15s 2ms/step - loss: 0.0136 - acc: 0.9983 - val_loss: 7.6070 - val_acc: 0.0029\n",
            "Epoch 32/100\n",
            "8885/8885 [==============================] - 15s 2ms/step - loss: 0.0144 - acc: 0.9982 - val_loss: 7.5796 - val_acc: 0.0029\n",
            "Epoch 33/100\n",
            "8885/8885 [==============================] - 15s 2ms/step - loss: 0.0135 - acc: 0.9983 - val_loss: 7.6057 - val_acc: 0.0029\n",
            "Epoch 34/100\n",
            "8885/8885 [==============================] - 15s 2ms/step - loss: 0.0153 - acc: 0.9981 - val_loss: 7.5645 - val_acc: 0.0029\n",
            "Epoch 35/100\n",
            "8885/8885 [==============================] - 15s 2ms/step - loss: 0.0148 - acc: 0.9982 - val_loss: 7.6084 - val_acc: 0.0029\n",
            "Epoch 36/100\n",
            "8885/8885 [==============================] - 15s 2ms/step - loss: 0.0131 - acc: 0.9984 - val_loss: 7.5937 - val_acc: 0.0029\n",
            "Epoch 37/100\n",
            "8885/8885 [==============================] - 15s 2ms/step - loss: 0.0150 - acc: 0.9982 - val_loss: 7.5680 - val_acc: 0.0029\n",
            "Epoch 38/100\n",
            "8885/8885 [==============================] - 15s 2ms/step - loss: 0.0138 - acc: 0.9983 - val_loss: 7.6229 - val_acc: 0.0029\n",
            "Epoch 39/100\n",
            "8885/8885 [==============================] - 15s 2ms/step - loss: 0.0145 - acc: 0.9982 - val_loss: 7.6813 - val_acc: 0.0029\n",
            "Epoch 40/100\n",
            "8885/8885 [==============================] - 15s 2ms/step - loss: 0.0137 - acc: 0.9984 - val_loss: 7.6054 - val_acc: 0.0029\n",
            "Epoch 41/100\n",
            "8885/8885 [==============================] - 15s 2ms/step - loss: 0.0147 - acc: 0.9982 - val_loss: 7.6653 - val_acc: 0.0029\n",
            "Epoch 42/100\n",
            "8885/8885 [==============================] - 15s 2ms/step - loss: 0.0143 - acc: 0.9983 - val_loss: 7.7082 - val_acc: 0.0029\n",
            "Epoch 43/100\n",
            "8885/8885 [==============================] - 15s 2ms/step - loss: 0.0146 - acc: 0.9983 - val_loss: 7.6381 - val_acc: 0.0029\n",
            "Epoch 44/100\n",
            "8885/8885 [==============================] - 15s 2ms/step - loss: 0.0147 - acc: 0.9982 - val_loss: 7.7159 - val_acc: 0.0029\n",
            "Epoch 45/100\n",
            "8885/8885 [==============================] - 15s 2ms/step - loss: 0.0140 - acc: 0.9983 - val_loss: 7.6666 - val_acc: 0.0029\n",
            "Epoch 46/100\n",
            "8885/8885 [==============================] - 15s 2ms/step - loss: 0.0134 - acc: 0.9984 - val_loss: 7.5879 - val_acc: 0.0029\n",
            "Epoch 47/100\n",
            "8885/8885 [==============================] - 15s 2ms/step - loss: 0.0145 - acc: 0.9983 - val_loss: 7.6657 - val_acc: 0.0029\n",
            "Epoch 48/100\n",
            "8885/8885 [==============================] - 15s 2ms/step - loss: 0.0138 - acc: 0.9983 - val_loss: 7.6105 - val_acc: 0.0029\n",
            "Epoch 49/100\n",
            "8885/8885 [==============================] - 15s 2ms/step - loss: 0.0139 - acc: 0.9983 - val_loss: 7.5294 - val_acc: 0.0029\n",
            "Epoch 50/100\n",
            "8885/8885 [==============================] - 15s 2ms/step - loss: 0.1503 - acc: 0.9983 - val_loss: 7.6846 - val_acc: 0.0029\n",
            "Epoch 51/100\n",
            "8885/8885 [==============================] - 15s 2ms/step - loss: 0.0318 - acc: 0.9984 - val_loss: 7.7046 - val_acc: 0.0029\n",
            "Epoch 52/100\n",
            "8885/8885 [==============================] - 15s 2ms/step - loss: 0.0194 - acc: 0.9982 - val_loss: 7.5988 - val_acc: 0.0029\n",
            "Epoch 53/100\n",
            "8885/8885 [==============================] - 15s 2ms/step - loss: 0.0152 - acc: 0.9981 - val_loss: 7.6767 - val_acc: 0.0029\n",
            "Epoch 54/100\n",
            "8885/8885 [==============================] - 15s 2ms/step - loss: 0.0140 - acc: 0.9983 - val_loss: 7.6299 - val_acc: 0.0029\n",
            "Epoch 55/100\n",
            "8885/8885 [==============================] - 15s 2ms/step - loss: 0.0139 - acc: 0.9983 - val_loss: 7.5365 - val_acc: 0.0029\n",
            "Epoch 56/100\n",
            "8885/8885 [==============================] - 15s 2ms/step - loss: 0.0143 - acc: 0.9983 - val_loss: 7.6148 - val_acc: 0.0029\n",
            "Epoch 57/100\n",
            "8885/8885 [==============================] - 15s 2ms/step - loss: 0.0138 - acc: 0.9983 - val_loss: 7.6073 - val_acc: 0.0029\n",
            "Epoch 58/100\n",
            "8885/8885 [==============================] - 15s 2ms/step - loss: 0.0148 - acc: 0.9982 - val_loss: 7.6677 - val_acc: 0.0029\n",
            "Epoch 59/100\n",
            "8885/8885 [==============================] - 15s 2ms/step - loss: 0.0146 - acc: 0.9982 - val_loss: 7.5407 - val_acc: 0.0029\n",
            "Epoch 60/100\n",
            "8885/8885 [==============================] - 15s 2ms/step - loss: 0.0151 - acc: 0.9982 - val_loss: 7.6302 - val_acc: 0.0029\n",
            "Epoch 61/100\n",
            "8885/8885 [==============================] - 15s 2ms/step - loss: 0.0136 - acc: 0.9983 - val_loss: 7.5638 - val_acc: 0.0029\n",
            "Epoch 62/100\n",
            "8885/8885 [==============================] - 15s 2ms/step - loss: 0.0143 - acc: 0.9982 - val_loss: 7.6003 - val_acc: 0.0029\n",
            "Epoch 63/100\n",
            "8885/8885 [==============================] - 15s 2ms/step - loss: 0.0139 - acc: 0.9983 - val_loss: 7.5368 - val_acc: 0.0029\n",
            "Epoch 64/100\n",
            "8885/8885 [==============================] - 15s 2ms/step - loss: 0.0145 - acc: 0.9982 - val_loss: 7.6459 - val_acc: 0.0029\n",
            "Epoch 65/100\n",
            "8885/8885 [==============================] - 15s 2ms/step - loss: 0.2611 - acc: 0.9982 - val_loss: 7.6588 - val_acc: 0.0029\n",
            "Epoch 66/100\n",
            "8885/8885 [==============================] - 15s 2ms/step - loss: 0.0151 - acc: 0.9982 - val_loss: 7.6669 - val_acc: 0.0029\n",
            "Epoch 67/100\n",
            "8885/8885 [==============================] - 15s 2ms/step - loss: 0.0134 - acc: 0.9984 - val_loss: 7.6806 - val_acc: 0.0029\n",
            "Epoch 68/100\n",
            "8885/8885 [==============================] - 15s 2ms/step - loss: 0.0144 - acc: 0.9983 - val_loss: 7.6989 - val_acc: 0.0029\n",
            "Epoch 69/100\n",
            "8885/8885 [==============================] - 15s 2ms/step - loss: 0.0144 - acc: 0.9983 - val_loss: 7.6303 - val_acc: 0.0029\n",
            "Epoch 70/100\n",
            "8885/8885 [==============================] - 15s 2ms/step - loss: 0.0137 - acc: 0.9983 - val_loss: 7.6018 - val_acc: 0.0029\n",
            "Epoch 71/100\n",
            "8885/8885 [==============================] - 15s 2ms/step - loss: 0.0139 - acc: 0.9983 - val_loss: 7.6210 - val_acc: 0.0029\n",
            "Epoch 72/100\n",
            "8885/8885 [==============================] - 15s 2ms/step - loss: 0.0133 - acc: 0.9984 - val_loss: 7.5784 - val_acc: 0.0029\n",
            "Epoch 73/100\n",
            "8885/8885 [==============================] - 15s 2ms/step - loss: 0.0141 - acc: 0.9983 - val_loss: 7.5590 - val_acc: 0.0029\n",
            "Epoch 74/100\n",
            "8885/8885 [==============================] - 15s 2ms/step - loss: 0.0138 - acc: 0.9983 - val_loss: 7.5952 - val_acc: 0.0029\n",
            "Epoch 75/100\n",
            "8885/8885 [==============================] - 15s 2ms/step - loss: 0.0134 - acc: 0.9984 - val_loss: 7.6563 - val_acc: 0.0029\n",
            "Epoch 76/100\n",
            "8885/8885 [==============================] - 15s 2ms/step - loss: 0.0140 - acc: 0.9983 - val_loss: 7.6381 - val_acc: 0.0029\n",
            "Epoch 77/100\n",
            "8885/8885 [==============================] - 15s 2ms/step - loss: 0.0139 - acc: 0.9983 - val_loss: 7.6494 - val_acc: 0.0029\n",
            "Epoch 78/100\n",
            "8885/8885 [==============================] - 15s 2ms/step - loss: 0.0135 - acc: 0.9984 - val_loss: 7.6553 - val_acc: 0.0029\n",
            "Epoch 79/100\n",
            "8885/8885 [==============================] - 15s 2ms/step - loss: 0.0142 - acc: 0.9983 - val_loss: 7.6163 - val_acc: 0.0029\n",
            "Epoch 80/100\n",
            "8885/8885 [==============================] - 15s 2ms/step - loss: 0.0140 - acc: 0.9983 - val_loss: 7.5782 - val_acc: 0.0029\n",
            "Epoch 81/100\n",
            "8885/8885 [==============================] - 15s 2ms/step - loss: 0.0129 - acc: 0.9985 - val_loss: 7.6043 - val_acc: 0.0029\n",
            "Epoch 82/100\n",
            "8885/8885 [==============================] - 15s 2ms/step - loss: 0.0133 - acc: 0.9984 - val_loss: 7.6382 - val_acc: 0.0029\n",
            "Epoch 83/100\n",
            "8885/8885 [==============================] - 15s 2ms/step - loss: 0.0139 - acc: 0.9983 - val_loss: 7.5576 - val_acc: 0.0029\n",
            "Epoch 84/100\n",
            "8885/8885 [==============================] - 15s 2ms/step - loss: 0.0140 - acc: 0.9983 - val_loss: 7.5876 - val_acc: 0.0029\n",
            "Epoch 85/100\n",
            "8885/8885 [==============================] - 15s 2ms/step - loss: 0.0143 - acc: 0.9982 - val_loss: 7.6525 - val_acc: 0.0029\n",
            "Epoch 86/100\n",
            "8885/8885 [==============================] - 15s 2ms/step - loss: 0.0130 - acc: 0.9984 - val_loss: 7.6705 - val_acc: 0.0029\n",
            "Epoch 87/100\n",
            "8885/8885 [==============================] - 15s 2ms/step - loss: 0.0137 - acc: 0.9983 - val_loss: 7.6966 - val_acc: 0.0029\n",
            "Epoch 88/100\n",
            "8885/8885 [==============================] - 15s 2ms/step - loss: 0.0134 - acc: 0.9984 - val_loss: 7.5576 - val_acc: 0.0029\n",
            "Epoch 89/100\n",
            "8885/8885 [==============================] - 15s 2ms/step - loss: 0.0157 - acc: 0.9983 - val_loss: 7.4694 - val_acc: 0.0029\n",
            "Epoch 90/100\n",
            "8885/8885 [==============================] - 16s 2ms/step - loss: 0.0136 - acc: 0.9983 - val_loss: 7.5252 - val_acc: 0.0029\n",
            "Epoch 91/100\n",
            "8885/8885 [==============================] - 15s 2ms/step - loss: 0.0145 - acc: 0.9982 - val_loss: 7.7001 - val_acc: 0.0029\n",
            "Epoch 92/100\n",
            "8885/8885 [==============================] - 16s 2ms/step - loss: 0.0140 - acc: 0.9983 - val_loss: 7.6084 - val_acc: 0.0029\n",
            "Epoch 93/100\n",
            "8885/8885 [==============================] - 15s 2ms/step - loss: 0.0133 - acc: 0.9984 - val_loss: 7.6226 - val_acc: 0.0029\n",
            "Epoch 94/100\n",
            "8885/8885 [==============================] - 15s 2ms/step - loss: 0.0211 - acc: 0.9982 - val_loss: 7.7031 - val_acc: 0.0029\n",
            "Epoch 95/100\n",
            "8885/8885 [==============================] - 15s 2ms/step - loss: 0.0153 - acc: 0.9981 - val_loss: 7.6458 - val_acc: 0.0029\n",
            "Epoch 96/100\n",
            "8885/8885 [==============================] - 15s 2ms/step - loss: 0.0145 - acc: 0.9982 - val_loss: 7.6678 - val_acc: 0.0029\n",
            "Epoch 97/100\n",
            "8885/8885 [==============================] - 15s 2ms/step - loss: 0.0138 - acc: 0.9983 - val_loss: 7.7237 - val_acc: 0.0029\n",
            "Epoch 98/100\n",
            "8885/8885 [==============================] - 15s 2ms/step - loss: 0.0136 - acc: 0.9983 - val_loss: 7.6783 - val_acc: 0.0029\n",
            "Epoch 99/100\n",
            "8885/8885 [==============================] - 16s 2ms/step - loss: 0.0141 - acc: 0.9983 - val_loss: 7.6680 - val_acc: 0.0029\n",
            "Epoch 100/100\n",
            "8885/8885 [==============================] - 15s 2ms/step - loss: 0.0137 - acc: 0.9983 - val_loss: 7.6043 - val_acc: 0.0029\n"
          ],
          "name": "stdout"
        }
      ]
    },
    {
      "cell_type": "markdown",
      "metadata": {
        "id": "RR6NszRvU07F"
      },
      "source": [
        "### Evaluation on Test Data"
      ]
    },
    {
      "cell_type": "code",
      "metadata": {
        "colab": {
          "base_uri": "https://localhost:8080/"
        },
        "id": "Bafg7wrXU3UG",
        "outputId": "4b927f62-a9a7-4dcc-f8e5-a4eb0513ddaf"
      },
      "source": [
        "loss, acc = model.evaluate(x_test, y_test)"
      ],
      "execution_count": 114,
      "outputs": [
        {
          "output_type": "stream",
          "text": [
            "3554/3554 [==============================] - 3s 873us/step - loss: 13.5805 - acc: 0.0000e+00\n"
          ],
          "name": "stdout"
        }
      ]
    },
    {
      "cell_type": "markdown",
      "metadata": {
        "id": "4qhJqdGOU-ve"
      },
      "source": [
        "### Prediction"
      ]
    },
    {
      "cell_type": "code",
      "metadata": {
        "colab": {
          "base_uri": "https://localhost:8080/"
        },
        "id": "7I0mWcj8VAeZ",
        "outputId": "1ce748f9-a2ec-4889-c0c7-3a9f00dbcd83"
      },
      "source": [
        "pred = model.predict(x_test[0:5])\n",
        "pred"
      ],
      "execution_count": 116,
      "outputs": [
        {
          "output_type": "execute_result",
          "data": {
            "text/plain": [
              "array([[1.1580802e-06],\n",
              "       [1.1580802e-06],\n",
              "       [1.1580802e-06],\n",
              "       [1.1580802e-06],\n",
              "       [1.1580802e-06]], dtype=float32)"
            ]
          },
          "metadata": {
            "tags": []
          },
          "execution_count": 116
        }
      ]
    }
  ]
}