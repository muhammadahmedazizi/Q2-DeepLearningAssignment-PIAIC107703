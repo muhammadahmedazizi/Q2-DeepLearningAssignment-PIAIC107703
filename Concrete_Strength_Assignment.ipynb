{
  "nbformat": 4,
  "nbformat_minor": 0,
  "metadata": {
    "kernelspec": {
      "display_name": "Python 3",
      "language": "python",
      "name": "python3"
    },
    "language_info": {
      "codemirror_mode": {
        "name": "ipython",
        "version": 3
      },
      "file_extension": ".py",
      "mimetype": "text/x-python",
      "name": "python",
      "nbconvert_exporter": "python",
      "pygments_lexer": "ipython3",
      "version": "3.7.3"
    },
    "colab": {
      "name": "Concrete Strength Assignment.ipynb",
      "provenance": [],
      "collapsed_sections": []
    }
  },
  "cells": [
    {
      "cell_type": "markdown",
      "metadata": {
        "id": "-5u2ToMn1gFU"
      },
      "source": [
        "# Assignment: Compresive Strength Concrete Problem\n",
        "\n",
        "\n",
        "### Abstract: \n",
        "\n",
        "Concrete is the most important material in civil engineering. The concrete compressive strength (concrete strength to bear the load) is a highly nonlinear function of age and ingredients.  <br><br>\n",
        "\n",
        "<table border=\"1\"  cellpadding=\"6\" bordercolor=\"red\">\n",
        "\t<tbody>\n",
        "        <tr>\n",
        "\t\t<td bgcolor=\"#DDEEFF\"><p class=\"normal\"><b>Data Set Characteristics:&nbsp;&nbsp;</b></p></td>\n",
        "\t\t<td><p class=\"normal\">Multivariate</p></td>\n",
        "\t\t<td bgcolor=\"#DDEEFF\"><p class=\"normal\"><b>Number of Instances:</b></p></td>\n",
        "\t\t<td><p class=\"normal\">1030</p></td>\n",
        "\t\t<td bgcolor=\"#DDEEFF\"><p class=\"normal\"><b>Area:</b></p></td>\n",
        "\t\t<td><p class=\"normal\">Physical</p></td>\n",
        "        </tr>\n",
        "     </tbody>\n",
        "    </table>\n",
        "<table border=\"1\" cellpadding=\"6\">\n",
        "    <tbody>\n",
        "        <tr>\n",
        "            <td bgcolor=\"#DDEEFF\"><p class=\"normal\"><b>Attribute Characteristics:</b></p></td>\n",
        "            <td><p class=\"normal\">Real</p></td>\n",
        "            <td bgcolor=\"#DDEEFF\"><p class=\"normal\"><b>Number of Attributes:</b></p></td>\n",
        "            <td><p class=\"normal\">9</p></td>\n",
        "            <td bgcolor=\"#DDEEFF\"><p class=\"normal\"><b>Date Donated</b></p></td>\n",
        "            <td><p class=\"normal\">2007-08-03</p></td>\n",
        "        </tr>\n",
        "     </tbody>\n",
        "    </table>\n",
        "<table border=\"1\" cellpadding=\"6\">\t\n",
        "    <tbody>\n",
        "    <tr>\n",
        "\t\t<td bgcolor=\"#DDEEFF\"><p class=\"normal\"><b>Associated Tasks:</b></p></td>\n",
        "\t\t<td><p class=\"normal\">Regression</p></td>\n",
        "\t\t<td bgcolor=\"#DDEEFF\"><p class=\"normal\"><b>Missing Values?</b></p></td>\n",
        "\t\t<td><p class=\"normal\">N/A</p></td>\n",
        "\t\t<td bgcolor=\"#DDEEFF\"><p class=\"normal\"><b>Number of Web Hits:</b></p></td>\n",
        "\t\t<td><p class=\"normal\">231464</p></td>\n",
        "\t</tr>\n",
        "    </tbody>\n",
        "    </table>"
      ]
    },
    {
      "cell_type": "markdown",
      "metadata": {
        "id": "AWnSIkCN1gFY"
      },
      "source": [
        "###  Description:\n",
        "| Features Name | Data Type | Measurement | Description |\n",
        "| -- | -- | -- | -- |\n",
        "Cement (component 1) | quantitative | kg in a m3 mixture | Input Variable\n",
        "Blast Furnace Slag (component 2) | quantitative | kg in a m3 mixture | Input Variable\n",
        "Fly Ash (component 3) | quantitative | kg in a m3 mixture | Input Variable\n",
        "Water (component 4) | quantitative | kg in a m3 mixture | Input Variable\n",
        "Superplasticizer (component 5) | quantitative | kg in a m3 mixture | Input Variable\n",
        "Coarse Aggregate (component 6) | quantitative | kg in a m3 mixture | Input Variable\n",
        "Fine Aggregate (component 7) | quantitative | kg in a m3 mixture | Input Variable\n",
        "Age | quantitative | Day (1~365) | Input Variable\n",
        "Concrete compressive strength | quantitative | MPa | Output Variable\n",
        "\n",
        "### WORKFLOW :\n",
        "- Load Data\n",
        "- Check Missing Values ( If Exist ; Fill each record with mean of its feature )\n",
        "- Standardized the Input Variables. **Hint**: Centeralized the data\n",
        "- Split into 50% Training(Samples,Labels) , 30% Test(Samples,Labels) and 20% Validation Data(Samples,Labels).\n",
        "- Model : input Layer (No. of features ), 3 hidden layers including 10,8,6 unit & Output Layer with activation function relu/tanh (check by experiment).\n",
        "- Compilation Step (Note : Its a Regression problem , select loss , metrics according to it)\n",
        "- Train the Model with Epochs (100) and validate it\n",
        "- If the model gets overfit tune your model by changing the units , No. of layers , activation function , epochs , add dropout layer or add Regularizer according to the need .\n",
        "- Evaluation Step\n",
        "- Prediction\n"
      ]
    },
    {
      "cell_type": "markdown",
      "metadata": {
        "id": "q0LFm8s21gFZ"
      },
      "source": [
        "# Load Data:\n",
        "[Click Here to Download DataSet](https://github.com/ramsha275/ML_Datasets/blob/main/compresive_strength_concrete.csv)"
      ]
    },
    {
      "cell_type": "code",
      "metadata": {
        "id": "7WMFupabR2or"
      },
      "source": [
        "import numpy as np\n",
        "import pandas as pd\n",
        "import tensorflow as tf\n",
        "import seaborn as sns\n",
        "import matplotlib.pyplot as plt\n",
        "from tensorflow.keras.models import Sequential\n",
        "from tensorflow.keras.layers import Dense\n",
        "from tensorflow.keras.optimizers import Adam, SGD"
      ],
      "execution_count": 24,
      "outputs": []
    },
    {
      "cell_type": "code",
      "metadata": {
        "colab": {
          "base_uri": "https://localhost:8080/"
        },
        "id": "G74AIeVp1xdB",
        "outputId": "62ffb849-2902-4659-d8f9-316a9a2af517"
      },
      "source": [
        "from google.colab import drive\n",
        "drive.mount('/content/gdrive')"
      ],
      "execution_count": 25,
      "outputs": [
        {
          "output_type": "stream",
          "text": [
            "Drive already mounted at /content/gdrive; to attempt to forcibly remount, call drive.mount(\"/content/gdrive\", force_remount=True).\n"
          ],
          "name": "stdout"
        }
      ]
    },
    {
      "cell_type": "code",
      "metadata": {
        "id": "heg5sSsf125_"
      },
      "source": [
        "data = pd.read_csv('/content/gdrive/MyDrive/compresive_strength_concrete.csv')"
      ],
      "execution_count": 26,
      "outputs": []
    },
    {
      "cell_type": "code",
      "metadata": {
        "colab": {
          "base_uri": "https://localhost:8080/"
        },
        "id": "rnaB4E0K2cqe",
        "outputId": "cd4b21e1-1c17-458f-b92c-5608e36913ec"
      },
      "source": [
        "data.shape"
      ],
      "execution_count": 27,
      "outputs": [
        {
          "output_type": "execute_result",
          "data": {
            "text/plain": [
              "(1030, 9)"
            ]
          },
          "metadata": {
            "tags": []
          },
          "execution_count": 27
        }
      ]
    },
    {
      "cell_type": "code",
      "metadata": {
        "colab": {
          "base_uri": "https://localhost:8080/",
          "height": 258
        },
        "id": "40DkvdoH2iWd",
        "outputId": "cb132add-4035-4415-d907-417c1b0a636e"
      },
      "source": [
        "data.head()"
      ],
      "execution_count": 28,
      "outputs": [
        {
          "output_type": "execute_result",
          "data": {
            "text/html": [
              "<div>\n",
              "<style scoped>\n",
              "    .dataframe tbody tr th:only-of-type {\n",
              "        vertical-align: middle;\n",
              "    }\n",
              "\n",
              "    .dataframe tbody tr th {\n",
              "        vertical-align: top;\n",
              "    }\n",
              "\n",
              "    .dataframe thead th {\n",
              "        text-align: right;\n",
              "    }\n",
              "</style>\n",
              "<table border=\"1\" class=\"dataframe\">\n",
              "  <thead>\n",
              "    <tr style=\"text-align: right;\">\n",
              "      <th></th>\n",
              "      <th>Cement (component 1)(kg in a m^3 mixture)</th>\n",
              "      <th>Blast Furnace Slag (component 2)(kg in a m^3 mixture)</th>\n",
              "      <th>Fly Ash (component 3)(kg in a m^3 mixture)</th>\n",
              "      <th>Water  (component 4)(kg in a m^3 mixture)</th>\n",
              "      <th>Superplasticizer (component 5)(kg in a m^3 mixture)</th>\n",
              "      <th>Coarse Aggregate  (component 6)(kg in a m^3 mixture)</th>\n",
              "      <th>Fine Aggregate (component 7)(kg in a m^3 mixture)</th>\n",
              "      <th>Age (day)</th>\n",
              "      <th>Concrete compressive strength(MPa, megapascals)</th>\n",
              "    </tr>\n",
              "  </thead>\n",
              "  <tbody>\n",
              "    <tr>\n",
              "      <th>0</th>\n",
              "      <td>540.0</td>\n",
              "      <td>0.0</td>\n",
              "      <td>0.0</td>\n",
              "      <td>162.0</td>\n",
              "      <td>2.5</td>\n",
              "      <td>1040.0</td>\n",
              "      <td>676.0</td>\n",
              "      <td>28</td>\n",
              "      <td>79.99</td>\n",
              "    </tr>\n",
              "    <tr>\n",
              "      <th>1</th>\n",
              "      <td>540.0</td>\n",
              "      <td>0.0</td>\n",
              "      <td>0.0</td>\n",
              "      <td>162.0</td>\n",
              "      <td>2.5</td>\n",
              "      <td>1055.0</td>\n",
              "      <td>676.0</td>\n",
              "      <td>28</td>\n",
              "      <td>61.89</td>\n",
              "    </tr>\n",
              "    <tr>\n",
              "      <th>2</th>\n",
              "      <td>332.5</td>\n",
              "      <td>142.5</td>\n",
              "      <td>0.0</td>\n",
              "      <td>228.0</td>\n",
              "      <td>0.0</td>\n",
              "      <td>932.0</td>\n",
              "      <td>594.0</td>\n",
              "      <td>270</td>\n",
              "      <td>40.27</td>\n",
              "    </tr>\n",
              "    <tr>\n",
              "      <th>3</th>\n",
              "      <td>332.5</td>\n",
              "      <td>142.5</td>\n",
              "      <td>0.0</td>\n",
              "      <td>228.0</td>\n",
              "      <td>0.0</td>\n",
              "      <td>932.0</td>\n",
              "      <td>594.0</td>\n",
              "      <td>365</td>\n",
              "      <td>41.05</td>\n",
              "    </tr>\n",
              "    <tr>\n",
              "      <th>4</th>\n",
              "      <td>198.6</td>\n",
              "      <td>132.4</td>\n",
              "      <td>0.0</td>\n",
              "      <td>192.0</td>\n",
              "      <td>0.0</td>\n",
              "      <td>978.4</td>\n",
              "      <td>825.5</td>\n",
              "      <td>360</td>\n",
              "      <td>44.30</td>\n",
              "    </tr>\n",
              "  </tbody>\n",
              "</table>\n",
              "</div>"
            ],
            "text/plain": [
              "   Cement (component 1)(kg in a m^3 mixture)  ...  Concrete compressive strength(MPa, megapascals) \n",
              "0                                      540.0  ...                                             79.99\n",
              "1                                      540.0  ...                                             61.89\n",
              "2                                      332.5  ...                                             40.27\n",
              "3                                      332.5  ...                                             41.05\n",
              "4                                      198.6  ...                                             44.30\n",
              "\n",
              "[5 rows x 9 columns]"
            ]
          },
          "metadata": {
            "tags": []
          },
          "execution_count": 28
        }
      ]
    },
    {
      "cell_type": "markdown",
      "metadata": {
        "id": "wYCRojDW2v4f"
      },
      "source": [
        "##Checking Missing Values ( If Exist ; Fill each record with mean of its feature )"
      ]
    },
    {
      "cell_type": "code",
      "metadata": {
        "colab": {
          "base_uri": "https://localhost:8080/"
        },
        "id": "yL1x1dgI26sj",
        "outputId": "546cc9d4-cfca-4258-93c7-c4b4c64f6b2c"
      },
      "source": [
        "data.isnull().sum()"
      ],
      "execution_count": 29,
      "outputs": [
        {
          "output_type": "execute_result",
          "data": {
            "text/plain": [
              "Cement (component 1)(kg in a m^3 mixture)                0\n",
              "Blast Furnace Slag (component 2)(kg in a m^3 mixture)    0\n",
              "Fly Ash (component 3)(kg in a m^3 mixture)               0\n",
              "Water  (component 4)(kg in a m^3 mixture)                0\n",
              "Superplasticizer (component 5)(kg in a m^3 mixture)      0\n",
              "Coarse Aggregate  (component 6)(kg in a m^3 mixture)     0\n",
              "Fine Aggregate (component 7)(kg in a m^3 mixture)        0\n",
              "Age (day)                                                0\n",
              "Concrete compressive strength(MPa, megapascals)          0\n",
              "dtype: int64"
            ]
          },
          "metadata": {
            "tags": []
          },
          "execution_count": 29
        }
      ]
    },
    {
      "cell_type": "code",
      "metadata": {
        "colab": {
          "base_uri": "https://localhost:8080/"
        },
        "id": "wAnqcDZ63C3-",
        "outputId": "5868eea1-9231-4981-ca1c-01217a5750f4"
      },
      "source": [
        "data.info()"
      ],
      "execution_count": 30,
      "outputs": [
        {
          "output_type": "stream",
          "text": [
            "<class 'pandas.core.frame.DataFrame'>\n",
            "RangeIndex: 1030 entries, 0 to 1029\n",
            "Data columns (total 9 columns):\n",
            " #   Column                                                 Non-Null Count  Dtype  \n",
            "---  ------                                                 --------------  -----  \n",
            " 0   Cement (component 1)(kg in a m^3 mixture)              1030 non-null   float64\n",
            " 1   Blast Furnace Slag (component 2)(kg in a m^3 mixture)  1030 non-null   float64\n",
            " 2   Fly Ash (component 3)(kg in a m^3 mixture)             1030 non-null   float64\n",
            " 3   Water  (component 4)(kg in a m^3 mixture)              1030 non-null   float64\n",
            " 4   Superplasticizer (component 5)(kg in a m^3 mixture)    1030 non-null   float64\n",
            " 5   Coarse Aggregate  (component 6)(kg in a m^3 mixture)   1030 non-null   float64\n",
            " 6   Fine Aggregate (component 7)(kg in a m^3 mixture)      1030 non-null   float64\n",
            " 7   Age (day)                                              1030 non-null   int64  \n",
            " 8   Concrete compressive strength(MPa, megapascals)        1030 non-null   float64\n",
            "dtypes: float64(8), int64(1)\n",
            "memory usage: 72.5 KB\n"
          ],
          "name": "stdout"
        }
      ]
    },
    {
      "cell_type": "code",
      "metadata": {
        "id": "n5SJt4K83MVz"
      },
      "source": [
        "# Separating Input and Output Colmumns \n",
        "X = data.iloc[:, :-1].values  # Input Columns\n",
        "Y = data.iloc[:, -1:].values # Output Columns "
      ],
      "execution_count": 31,
      "outputs": []
    },
    {
      "cell_type": "code",
      "metadata": {
        "colab": {
          "base_uri": "https://localhost:8080/"
        },
        "id": "SoGSMA7V7zUM",
        "outputId": "ba4fce9a-98ce-48f3-cf71-6f1931fecfd9"
      },
      "source": [
        "X"
      ],
      "execution_count": 32,
      "outputs": [
        {
          "output_type": "execute_result",
          "data": {
            "text/plain": [
              "array([[ 540. ,    0. ,    0. , ..., 1040. ,  676. ,   28. ],\n",
              "       [ 540. ,    0. ,    0. , ..., 1055. ,  676. ,   28. ],\n",
              "       [ 332.5,  142.5,    0. , ...,  932. ,  594. ,  270. ],\n",
              "       ...,\n",
              "       [ 148.5,  139.4,  108.6, ...,  892.4,  780. ,   28. ],\n",
              "       [ 159.1,  186.7,    0. , ...,  989.6,  788.9,   28. ],\n",
              "       [ 260.9,  100.5,   78.3, ...,  864.5,  761.5,   28. ]])"
            ]
          },
          "metadata": {
            "tags": []
          },
          "execution_count": 32
        }
      ]
    },
    {
      "cell_type": "code",
      "metadata": {
        "colab": {
          "base_uri": "https://localhost:8080/"
        },
        "id": "A9HGiDdz84Jw",
        "outputId": "f8d8c492-a548-4bd1-8cb4-fcbb999d0115"
      },
      "source": [
        "Y"
      ],
      "execution_count": 33,
      "outputs": [
        {
          "output_type": "execute_result",
          "data": {
            "text/plain": [
              "array([[79.99],\n",
              "       [61.89],\n",
              "       [40.27],\n",
              "       ...,\n",
              "       [23.7 ],\n",
              "       [32.77],\n",
              "       [32.4 ]])"
            ]
          },
          "metadata": {
            "tags": []
          },
          "execution_count": 33
        }
      ]
    },
    {
      "cell_type": "markdown",
      "metadata": {
        "id": "5fC9-iXU93nb"
      },
      "source": [
        "# Splitting Data \n",
        "###Split into 50% Training(Samples,Labels) , 30% Test(Samples,Labels) and 20% Validation Data(Samples,Labels)."
      ]
    },
    {
      "cell_type": "code",
      "metadata": {
        "id": "bfZn371q92oN",
        "colab": {
          "base_uri": "https://localhost:8080/"
        },
        "outputId": "25ba73cb-0c70-4800-fa0d-f5e22097c8b4"
      },
      "source": [
        "def split_train_val_test(x, y, train, val, test):\n",
        "    x_rows, x_col = x.shape\n",
        "    y_rows, y_col = y.shape \n",
        "    \n",
        "    train_start = 0\n",
        "    train_stop = int(x_rows*train)\n",
        "    \n",
        "    val_start = train_stop\n",
        "    val_stop = int(x_rows*train)+int(x_rows*val)\n",
        "    \n",
        "    test_start = val_stop\n",
        "    test_stop = None\n",
        "\n",
        "    x_train = x[train_start:train_stop,] # Extracting X_Training Data \n",
        "    x_val = x[val_start:val_stop,]\n",
        "    x_test = x[test_start:test_stop]\n",
        "    \n",
        "    y_train = y[train_start:train_stop,] # Extracting y_Training Data \n",
        "    y_val = y[val_start:val_stop,]\n",
        "    y_test = y[test_start:test_stop]\n",
        "    \n",
        "    #Splitting Desicription \n",
        "    desc = f'''Splitting Discription:\n",
        "    Training Data {int(train*100)}%\n",
        "    Validation Data {int(val*100)}%\n",
        "    Testing Data {int(val*100)}%\n",
        "    \n",
        "    Shape of Training Data {x.shape}\n",
        "    Shape of Target Data {y.shape}\n",
        "    \n",
        "    Shape of x_train {x_train.shape}\n",
        "    Shape of x_val {x_val.shape}\n",
        "    Shape of x_test {x_test.shape}\n",
        "     \n",
        "    Shape of y_train {y_train.shape}\n",
        "    Shape of y_val {y_val.shape}\n",
        "    Shape of y_test {y_test.shape}\n",
        "    \n",
        "    '''\n",
        "    \n",
        "    return x_train, x_val, x_test, y_train, y_val, y_test, desc\n",
        "\n",
        "\n",
        "\n",
        "x_train, x_val, x_test, y_train, y_val, y_test, desc = split_train_val_test(X,Y,.5,.3,.2)\n",
        "print (desc)\n"
      ],
      "execution_count": 34,
      "outputs": [
        {
          "output_type": "stream",
          "text": [
            "Splitting Discription:\n",
            "    Training Data 50%\n",
            "    Validation Data 30%\n",
            "    Testing Data 30%\n",
            "    \n",
            "    Shape of Training Data (1030, 8)\n",
            "    Shape of Target Data (1030, 1)\n",
            "    \n",
            "    Shape of x_train (515, 8)\n",
            "    Shape of x_val (309, 8)\n",
            "    Shape of x_test (206, 8)\n",
            "     \n",
            "    Shape of y_train (515, 1)\n",
            "    Shape of y_val (309, 1)\n",
            "    Shape of y_test (206, 1)\n",
            "    \n",
            "    \n"
          ],
          "name": "stdout"
        }
      ]
    },
    {
      "cell_type": "code",
      "metadata": {
        "colab": {
          "base_uri": "https://localhost:8080/"
        },
        "id": "svuh2wph-2_P",
        "outputId": "262c553e-eb96-46f7-fcea-c9ce784f9c66"
      },
      "source": [
        "print (x_train.shape, x_test.shape, x_val.shape)\n",
        "print (y_train.shape, y_test.shape, y_val.shape)"
      ],
      "execution_count": 35,
      "outputs": [
        {
          "output_type": "stream",
          "text": [
            "(515, 8) (206, 8) (309, 8)\n",
            "(515, 1) (206, 1) (309, 1)\n"
          ],
          "name": "stdout"
        }
      ]
    },
    {
      "cell_type": "markdown",
      "metadata": {
        "id": "JfxkDeSeClc-"
      },
      "source": [
        "# Standardization of Training / Test / Validation Data "
      ]
    },
    {
      "cell_type": "code",
      "metadata": {
        "id": "TpxZlLUEA0xT"
      },
      "source": [
        "mean = x_train.mean(axis=0)\n",
        "x_train -= mean\n",
        "std = x_train.std(axis=0)\n",
        "x_train /= std\n",
        "\n",
        "\n",
        "x_val -= mean\n",
        "x_val /= std\n",
        "\n",
        "x_test -= mean\n",
        "x_test /= std\n",
        "\n"
      ],
      "execution_count": 36,
      "outputs": []
    },
    {
      "cell_type": "code",
      "metadata": {
        "colab": {
          "base_uri": "https://localhost:8080/"
        },
        "id": "3Xj0CfxCCeXE",
        "outputId": "88efa0bd-7194-42c8-f06c-14d58550d2fe"
      },
      "source": [
        "print (x_train.shape, x_test.shape, x_val.shape)\n",
        "print (y_train.shape, y_test.shape, y_val.shape)"
      ],
      "execution_count": 37,
      "outputs": [
        {
          "output_type": "stream",
          "text": [
            "(515, 8) (206, 8) (309, 8)\n",
            "(515, 1) (206, 1) (309, 1)\n"
          ],
          "name": "stdout"
        }
      ]
    },
    {
      "cell_type": "markdown",
      "metadata": {
        "id": "kn5voCKXEzv4"
      },
      "source": [
        "# Setting up the model"
      ]
    },
    {
      "cell_type": "code",
      "metadata": {
        "id": "MiHNrR9ODMdD"
      },
      "source": [
        "model = Sequential()\n",
        "model.add(tf.keras.layers.Dense(10, activation='relu',input_shape=(8,)))\n",
        "model.add(tf.keras.layers.Dense(8,))\n",
        "model.add(tf.keras.layers.Dense(6,))\n",
        "model.add(tf.keras.layers.Dense(1,))"
      ],
      "execution_count": 38,
      "outputs": []
    },
    {
      "cell_type": "markdown",
      "metadata": {
        "id": "M6Mv3_dqE7B8"
      },
      "source": [
        "# Model Compilation"
      ]
    },
    {
      "cell_type": "code",
      "metadata": {
        "id": "xyQ2ih8GEQj-"
      },
      "source": [
        "model.compile(optimizer='rmsprop', loss='mse', metrics=['mae'])"
      ],
      "execution_count": 39,
      "outputs": []
    },
    {
      "cell_type": "markdown",
      "metadata": {
        "id": "xXih_g-tE_AD"
      },
      "source": [
        "# Training"
      ]
    },
    {
      "cell_type": "code",
      "metadata": {
        "colab": {
          "base_uri": "https://localhost:8080/"
        },
        "id": "PPDl_XcNEWre",
        "outputId": "8525b7b7-6d38-4f50-99f7-63cb57937e7f"
      },
      "source": [
        "history = model.fit(x_train, y_train,epochs=200, validation_data =(x_val, y_val))"
      ],
      "execution_count": 40,
      "outputs": [
        {
          "output_type": "stream",
          "text": [
            "Epoch 1/200\n",
            "17/17 [==============================] - 1s 12ms/step - loss: 2021.6575 - mae: 41.6399 - val_loss: 867.2118 - val_mae: 25.7580\n",
            "Epoch 2/200\n",
            "17/17 [==============================] - 0s 5ms/step - loss: 1929.1453 - mae: 40.5521 - val_loss: 834.5218 - val_mae: 25.1078\n",
            "Epoch 3/200\n",
            "17/17 [==============================] - 0s 4ms/step - loss: 1948.3245 - mae: 40.6870 - val_loss: 795.9290 - val_mae: 24.3118\n",
            "Epoch 4/200\n",
            "17/17 [==============================] - 0s 5ms/step - loss: 1830.7469 - mae: 39.0295 - val_loss: 751.3867 - val_mae: 23.3742\n",
            "Epoch 5/200\n",
            "17/17 [==============================] - 0s 4ms/step - loss: 1803.1514 - mae: 38.4036 - val_loss: 701.8964 - val_mae: 22.2824\n",
            "Epoch 6/200\n",
            "17/17 [==============================] - 0s 4ms/step - loss: 1596.6580 - mae: 36.2809 - val_loss: 647.8570 - val_mae: 21.0688\n",
            "Epoch 7/200\n",
            "17/17 [==============================] - 0s 4ms/step - loss: 1512.3279 - mae: 34.9152 - val_loss: 588.8571 - val_mae: 19.7230\n",
            "Epoch 8/200\n",
            "17/17 [==============================] - 0s 4ms/step - loss: 1318.1375 - mae: 32.0152 - val_loss: 528.3372 - val_mae: 18.3012\n",
            "Epoch 9/200\n",
            "17/17 [==============================] - 0s 4ms/step - loss: 1187.7660 - mae: 29.9999 - val_loss: 465.7386 - val_mae: 16.8056\n",
            "Epoch 10/200\n",
            "17/17 [==============================] - 0s 4ms/step - loss: 1149.0511 - mae: 28.9232 - val_loss: 409.0888 - val_mae: 15.4518\n",
            "Epoch 11/200\n",
            "17/17 [==============================] - 0s 4ms/step - loss: 1055.5662 - mae: 27.5786 - val_loss: 351.9074 - val_mae: 14.1070\n",
            "Epoch 12/200\n",
            "17/17 [==============================] - 0s 4ms/step - loss: 850.1787 - mae: 23.8537 - val_loss: 301.8618 - val_mae: 13.0216\n",
            "Epoch 13/200\n",
            "17/17 [==============================] - 0s 4ms/step - loss: 699.1996 - mae: 21.1458 - val_loss: 258.4439 - val_mae: 12.1917\n",
            "Epoch 14/200\n",
            "17/17 [==============================] - 0s 4ms/step - loss: 588.5838 - mae: 19.1972 - val_loss: 226.3396 - val_mae: 11.6881\n",
            "Epoch 15/200\n",
            "17/17 [==============================] - 0s 5ms/step - loss: 467.6054 - mae: 17.1131 - val_loss: 209.2387 - val_mae: 11.5025\n",
            "Epoch 16/200\n",
            "17/17 [==============================] - 0s 4ms/step - loss: 396.9653 - mae: 15.7584 - val_loss: 205.3390 - val_mae: 11.5768\n",
            "Epoch 17/200\n",
            "17/17 [==============================] - 0s 4ms/step - loss: 342.1140 - mae: 14.2732 - val_loss: 213.4494 - val_mae: 11.8982\n",
            "Epoch 18/200\n",
            "17/17 [==============================] - 0s 5ms/step - loss: 336.9095 - mae: 14.1639 - val_loss: 226.0765 - val_mae: 12.2833\n",
            "Epoch 19/200\n",
            "17/17 [==============================] - 0s 4ms/step - loss: 305.2159 - mae: 13.6897 - val_loss: 228.3164 - val_mae: 12.3535\n",
            "Epoch 20/200\n",
            "17/17 [==============================] - 0s 4ms/step - loss: 315.2963 - mae: 13.8064 - val_loss: 229.9593 - val_mae: 12.4115\n",
            "Epoch 21/200\n",
            "17/17 [==============================] - 0s 4ms/step - loss: 273.5690 - mae: 13.2859 - val_loss: 227.8987 - val_mae: 12.3531\n",
            "Epoch 22/200\n",
            "17/17 [==============================] - 0s 5ms/step - loss: 267.0725 - mae: 13.4337 - val_loss: 235.5715 - val_mae: 12.5498\n",
            "Epoch 23/200\n",
            "17/17 [==============================] - 0s 4ms/step - loss: 265.4205 - mae: 13.0958 - val_loss: 229.6774 - val_mae: 12.3807\n",
            "Epoch 24/200\n",
            "17/17 [==============================] - 0s 4ms/step - loss: 256.7864 - mae: 13.0347 - val_loss: 241.5262 - val_mae: 12.6557\n",
            "Epoch 25/200\n",
            "17/17 [==============================] - 0s 4ms/step - loss: 252.1090 - mae: 12.9309 - val_loss: 227.1583 - val_mae: 12.2708\n",
            "Epoch 26/200\n",
            "17/17 [==============================] - 0s 4ms/step - loss: 238.2108 - mae: 12.6231 - val_loss: 240.4831 - val_mae: 12.5905\n",
            "Epoch 27/200\n",
            "17/17 [==============================] - 0s 4ms/step - loss: 242.2804 - mae: 12.7921 - val_loss: 245.5338 - val_mae: 12.6934\n",
            "Epoch 28/200\n",
            "17/17 [==============================] - 0s 4ms/step - loss: 238.8294 - mae: 12.7476 - val_loss: 249.0969 - val_mae: 12.7531\n",
            "Epoch 29/200\n",
            "17/17 [==============================] - 0s 4ms/step - loss: 224.7390 - mae: 12.5673 - val_loss: 220.5471 - val_mae: 12.0238\n",
            "Epoch 30/200\n",
            "17/17 [==============================] - 0s 4ms/step - loss: 215.4058 - mae: 12.1404 - val_loss: 221.0909 - val_mae: 12.0295\n",
            "Epoch 31/200\n",
            "17/17 [==============================] - 0s 4ms/step - loss: 214.0488 - mae: 12.2158 - val_loss: 229.9742 - val_mae: 12.2335\n",
            "Epoch 32/200\n",
            "17/17 [==============================] - 0s 4ms/step - loss: 225.9754 - mae: 12.4720 - val_loss: 233.2839 - val_mae: 12.3013\n",
            "Epoch 33/200\n",
            "17/17 [==============================] - 0s 4ms/step - loss: 206.3206 - mae: 11.8989 - val_loss: 241.1959 - val_mae: 12.5015\n",
            "Epoch 34/200\n",
            "17/17 [==============================] - 0s 4ms/step - loss: 197.6576 - mae: 11.7382 - val_loss: 224.2360 - val_mae: 12.0811\n",
            "Epoch 35/200\n",
            "17/17 [==============================] - 0s 4ms/step - loss: 193.0501 - mae: 11.5839 - val_loss: 213.0873 - val_mae: 11.8016\n",
            "Epoch 36/200\n",
            "17/17 [==============================] - 0s 4ms/step - loss: 185.7012 - mae: 11.1328 - val_loss: 214.3354 - val_mae: 11.8330\n",
            "Epoch 37/200\n",
            "17/17 [==============================] - 0s 4ms/step - loss: 179.7548 - mae: 11.1911 - val_loss: 221.9172 - val_mae: 12.0158\n",
            "Epoch 38/200\n",
            "17/17 [==============================] - 0s 4ms/step - loss: 198.2789 - mae: 11.7211 - val_loss: 225.9845 - val_mae: 12.1176\n",
            "Epoch 39/200\n",
            "17/17 [==============================] - 0s 4ms/step - loss: 164.9204 - mae: 10.6618 - val_loss: 223.3205 - val_mae: 12.0464\n",
            "Epoch 40/200\n",
            "17/17 [==============================] - 0s 4ms/step - loss: 190.0851 - mae: 11.5396 - val_loss: 230.1243 - val_mae: 12.2229\n",
            "Epoch 41/200\n",
            "17/17 [==============================] - 0s 4ms/step - loss: 184.8359 - mae: 11.2446 - val_loss: 231.3168 - val_mae: 12.2601\n",
            "Epoch 42/200\n",
            "17/17 [==============================] - 0s 5ms/step - loss: 160.8676 - mae: 10.4739 - val_loss: 238.9009 - val_mae: 12.4699\n",
            "Epoch 43/200\n",
            "17/17 [==============================] - 0s 4ms/step - loss: 182.3596 - mae: 11.3479 - val_loss: 233.2038 - val_mae: 12.3273\n",
            "Epoch 44/200\n",
            "17/17 [==============================] - 0s 4ms/step - loss: 183.4362 - mae: 11.2397 - val_loss: 237.0885 - val_mae: 12.4456\n",
            "Epoch 45/200\n",
            "17/17 [==============================] - 0s 4ms/step - loss: 155.5102 - mae: 10.3307 - val_loss: 242.6371 - val_mae: 12.6029\n",
            "Epoch 46/200\n",
            "17/17 [==============================] - 0s 4ms/step - loss: 183.2380 - mae: 11.0884 - val_loss: 237.8052 - val_mae: 12.4970\n",
            "Epoch 47/200\n",
            "17/17 [==============================] - 0s 4ms/step - loss: 167.4501 - mae: 10.6737 - val_loss: 247.3859 - val_mae: 12.7727\n",
            "Epoch 48/200\n",
            "17/17 [==============================] - 0s 4ms/step - loss: 173.9894 - mae: 10.8607 - val_loss: 239.8221 - val_mae: 12.5435\n",
            "Epoch 49/200\n",
            "17/17 [==============================] - 0s 4ms/step - loss: 166.9293 - mae: 10.6799 - val_loss: 228.9413 - val_mae: 12.2074\n",
            "Epoch 50/200\n",
            "17/17 [==============================] - 0s 4ms/step - loss: 162.1406 - mae: 10.2872 - val_loss: 231.5086 - val_mae: 12.2868\n",
            "Epoch 51/200\n",
            "17/17 [==============================] - 0s 4ms/step - loss: 167.6052 - mae: 10.7436 - val_loss: 236.8169 - val_mae: 12.4316\n",
            "Epoch 52/200\n",
            "17/17 [==============================] - 0s 4ms/step - loss: 166.2848 - mae: 10.6169 - val_loss: 229.3140 - val_mae: 12.2053\n",
            "Epoch 53/200\n",
            "17/17 [==============================] - 0s 4ms/step - loss: 147.2933 - mae: 10.0660 - val_loss: 216.0375 - val_mae: 11.8301\n",
            "Epoch 54/200\n",
            "17/17 [==============================] - 0s 5ms/step - loss: 160.7211 - mae: 10.3116 - val_loss: 217.7769 - val_mae: 11.8728\n",
            "Epoch 55/200\n",
            "17/17 [==============================] - 0s 4ms/step - loss: 154.6317 - mae: 10.1649 - val_loss: 231.3199 - val_mae: 12.2495\n",
            "Epoch 56/200\n",
            "17/17 [==============================] - 0s 4ms/step - loss: 153.1296 - mae: 10.1827 - val_loss: 224.3080 - val_mae: 12.0574\n",
            "Epoch 57/200\n",
            "17/17 [==============================] - 0s 4ms/step - loss: 155.4812 - mae: 10.1402 - val_loss: 225.0779 - val_mae: 12.0923\n",
            "Epoch 58/200\n",
            "17/17 [==============================] - 0s 5ms/step - loss: 149.6634 - mae: 9.9409 - val_loss: 237.5221 - val_mae: 12.4360\n",
            "Epoch 59/200\n",
            "17/17 [==============================] - 0s 5ms/step - loss: 161.6363 - mae: 10.2854 - val_loss: 247.3102 - val_mae: 12.7197\n",
            "Epoch 60/200\n",
            "17/17 [==============================] - 0s 4ms/step - loss: 154.0562 - mae: 10.1843 - val_loss: 234.1839 - val_mae: 12.3467\n",
            "Epoch 61/200\n",
            "17/17 [==============================] - 0s 4ms/step - loss: 162.7309 - mae: 10.4826 - val_loss: 231.2471 - val_mae: 12.2592\n",
            "Epoch 62/200\n",
            "17/17 [==============================] - 0s 4ms/step - loss: 148.4573 - mae: 9.9453 - val_loss: 240.3642 - val_mae: 12.5256\n",
            "Epoch 63/200\n",
            "17/17 [==============================] - 0s 4ms/step - loss: 152.7707 - mae: 10.1833 - val_loss: 228.2312 - val_mae: 12.1958\n",
            "Epoch 64/200\n",
            "17/17 [==============================] - 0s 4ms/step - loss: 156.5182 - mae: 10.3129 - val_loss: 239.8262 - val_mae: 12.5373\n",
            "Epoch 65/200\n",
            "17/17 [==============================] - 0s 4ms/step - loss: 143.2379 - mae: 9.8080 - val_loss: 232.0855 - val_mae: 12.3173\n",
            "Epoch 66/200\n",
            "17/17 [==============================] - 0s 4ms/step - loss: 152.2232 - mae: 9.8955 - val_loss: 236.9527 - val_mae: 12.4368\n",
            "Epoch 67/200\n",
            "17/17 [==============================] - 0s 4ms/step - loss: 152.7888 - mae: 10.1644 - val_loss: 230.8358 - val_mae: 12.2664\n",
            "Epoch 68/200\n",
            "17/17 [==============================] - 0s 4ms/step - loss: 146.6929 - mae: 9.8674 - val_loss: 226.3250 - val_mae: 12.1378\n",
            "Epoch 69/200\n",
            "17/17 [==============================] - 0s 5ms/step - loss: 150.2269 - mae: 10.0218 - val_loss: 234.8065 - val_mae: 12.3858\n",
            "Epoch 70/200\n",
            "17/17 [==============================] - 0s 4ms/step - loss: 144.8333 - mae: 9.7267 - val_loss: 226.0812 - val_mae: 12.1353\n",
            "Epoch 71/200\n",
            "17/17 [==============================] - 0s 5ms/step - loss: 155.3729 - mae: 10.0402 - val_loss: 229.2831 - val_mae: 12.2305\n",
            "Epoch 72/200\n",
            "17/17 [==============================] - 0s 4ms/step - loss: 159.3352 - mae: 10.3054 - val_loss: 255.2561 - val_mae: 12.9468\n",
            "Epoch 73/200\n",
            "17/17 [==============================] - 0s 4ms/step - loss: 145.1011 - mae: 9.9610 - val_loss: 242.8909 - val_mae: 12.6345\n",
            "Epoch 74/200\n",
            "17/17 [==============================] - 0s 4ms/step - loss: 146.4549 - mae: 9.9362 - val_loss: 229.4411 - val_mae: 12.2632\n",
            "Epoch 75/200\n",
            "17/17 [==============================] - 0s 4ms/step - loss: 152.6864 - mae: 10.0490 - val_loss: 256.9940 - val_mae: 13.0208\n",
            "Epoch 76/200\n",
            "17/17 [==============================] - 0s 4ms/step - loss: 153.2901 - mae: 10.1032 - val_loss: 235.1052 - val_mae: 12.4253\n",
            "Epoch 77/200\n",
            "17/17 [==============================] - 0s 4ms/step - loss: 161.4567 - mae: 10.3652 - val_loss: 252.2736 - val_mae: 12.8918\n",
            "Epoch 78/200\n",
            "17/17 [==============================] - 0s 4ms/step - loss: 143.1303 - mae: 9.7710 - val_loss: 252.4385 - val_mae: 12.9008\n",
            "Epoch 79/200\n",
            "17/17 [==============================] - 0s 5ms/step - loss: 159.0774 - mae: 10.3557 - val_loss: 258.8040 - val_mae: 13.0735\n",
            "Epoch 80/200\n",
            "17/17 [==============================] - 0s 4ms/step - loss: 137.3597 - mae: 9.5859 - val_loss: 263.5251 - val_mae: 13.2134\n",
            "Epoch 81/200\n",
            "17/17 [==============================] - 0s 4ms/step - loss: 136.0783 - mae: 9.3907 - val_loss: 250.5138 - val_mae: 12.8741\n",
            "Epoch 82/200\n",
            "17/17 [==============================] - 0s 5ms/step - loss: 127.2636 - mae: 9.0928 - val_loss: 257.2412 - val_mae: 13.0700\n",
            "Epoch 83/200\n",
            "17/17 [==============================] - 0s 4ms/step - loss: 141.9593 - mae: 9.6588 - val_loss: 234.7769 - val_mae: 12.4512\n",
            "Epoch 84/200\n",
            "17/17 [==============================] - 0s 4ms/step - loss: 147.1802 - mae: 9.9914 - val_loss: 244.3825 - val_mae: 12.7135\n",
            "Epoch 85/200\n",
            "17/17 [==============================] - 0s 4ms/step - loss: 143.3182 - mae: 9.7230 - val_loss: 258.5165 - val_mae: 13.1081\n",
            "Epoch 86/200\n",
            "17/17 [==============================] - 0s 4ms/step - loss: 140.9499 - mae: 9.7899 - val_loss: 245.9695 - val_mae: 12.7659\n",
            "Epoch 87/200\n",
            "17/17 [==============================] - 0s 5ms/step - loss: 138.5810 - mae: 9.5657 - val_loss: 255.5234 - val_mae: 13.0345\n",
            "Epoch 88/200\n",
            "17/17 [==============================] - 0s 4ms/step - loss: 136.1278 - mae: 9.4200 - val_loss: 255.7098 - val_mae: 13.0462\n",
            "Epoch 89/200\n",
            "17/17 [==============================] - 0s 4ms/step - loss: 133.4940 - mae: 9.4733 - val_loss: 254.7277 - val_mae: 13.0362\n",
            "Epoch 90/200\n",
            "17/17 [==============================] - 0s 4ms/step - loss: 138.4069 - mae: 9.5002 - val_loss: 247.9017 - val_mae: 12.8553\n",
            "Epoch 91/200\n",
            "17/17 [==============================] - 0s 4ms/step - loss: 137.0407 - mae: 9.4760 - val_loss: 252.4893 - val_mae: 12.9930\n",
            "Epoch 92/200\n",
            "17/17 [==============================] - 0s 4ms/step - loss: 147.4859 - mae: 9.8635 - val_loss: 261.8990 - val_mae: 13.2605\n",
            "Epoch 93/200\n",
            "17/17 [==============================] - 0s 5ms/step - loss: 134.7057 - mae: 9.3714 - val_loss: 242.1707 - val_mae: 12.7232\n",
            "Epoch 94/200\n",
            "17/17 [==============================] - 0s 5ms/step - loss: 139.1382 - mae: 9.6953 - val_loss: 248.7341 - val_mae: 12.9038\n",
            "Epoch 95/200\n",
            "17/17 [==============================] - 0s 5ms/step - loss: 125.9680 - mae: 9.2328 - val_loss: 256.0218 - val_mae: 13.0953\n",
            "Epoch 96/200\n",
            "17/17 [==============================] - 0s 5ms/step - loss: 138.4317 - mae: 9.5842 - val_loss: 250.2560 - val_mae: 12.9425\n",
            "Epoch 97/200\n",
            "17/17 [==============================] - 0s 4ms/step - loss: 131.8840 - mae: 9.3623 - val_loss: 241.7841 - val_mae: 12.7216\n",
            "Epoch 98/200\n",
            "17/17 [==============================] - 0s 4ms/step - loss: 141.7611 - mae: 9.4862 - val_loss: 235.3652 - val_mae: 12.5673\n",
            "Epoch 99/200\n",
            "17/17 [==============================] - 0s 4ms/step - loss: 130.0275 - mae: 9.3141 - val_loss: 242.2393 - val_mae: 12.7569\n",
            "Epoch 100/200\n",
            "17/17 [==============================] - 0s 4ms/step - loss: 129.5914 - mae: 9.2080 - val_loss: 253.9441 - val_mae: 13.0676\n",
            "Epoch 101/200\n",
            "17/17 [==============================] - 0s 4ms/step - loss: 140.5800 - mae: 9.5650 - val_loss: 264.1046 - val_mae: 13.3778\n",
            "Epoch 102/200\n",
            "17/17 [==============================] - 0s 4ms/step - loss: 137.0802 - mae: 9.5415 - val_loss: 243.7581 - val_mae: 12.8592\n",
            "Epoch 103/200\n",
            "17/17 [==============================] - 0s 4ms/step - loss: 130.0969 - mae: 9.3244 - val_loss: 255.7737 - val_mae: 13.1580\n",
            "Epoch 104/200\n",
            "17/17 [==============================] - 0s 4ms/step - loss: 126.1480 - mae: 8.9820 - val_loss: 238.9327 - val_mae: 12.7115\n",
            "Epoch 105/200\n",
            "17/17 [==============================] - 0s 4ms/step - loss: 136.1285 - mae: 9.6446 - val_loss: 252.1429 - val_mae: 13.0810\n",
            "Epoch 106/200\n",
            "17/17 [==============================] - 0s 5ms/step - loss: 124.2053 - mae: 8.8779 - val_loss: 258.3071 - val_mae: 13.2440\n",
            "Epoch 107/200\n",
            "17/17 [==============================] - 0s 4ms/step - loss: 138.4214 - mae: 9.6250 - val_loss: 274.2900 - val_mae: 13.6702\n",
            "Epoch 108/200\n",
            "17/17 [==============================] - 0s 4ms/step - loss: 126.6842 - mae: 8.9623 - val_loss: 279.3791 - val_mae: 13.8149\n",
            "Epoch 109/200\n",
            "17/17 [==============================] - 0s 4ms/step - loss: 135.3030 - mae: 9.2705 - val_loss: 243.1812 - val_mae: 12.8538\n",
            "Epoch 110/200\n",
            "17/17 [==============================] - 0s 5ms/step - loss: 139.5916 - mae: 9.5614 - val_loss: 254.2891 - val_mae: 13.1282\n",
            "Epoch 111/200\n",
            "17/17 [==============================] - 0s 5ms/step - loss: 139.9700 - mae: 9.5588 - val_loss: 268.2951 - val_mae: 13.5029\n",
            "Epoch 112/200\n",
            "17/17 [==============================] - 0s 4ms/step - loss: 126.8758 - mae: 8.9057 - val_loss: 262.3077 - val_mae: 13.3516\n",
            "Epoch 113/200\n",
            "17/17 [==============================] - 0s 4ms/step - loss: 132.9551 - mae: 9.3828 - val_loss: 258.4645 - val_mae: 13.2556\n",
            "Epoch 114/200\n",
            "17/17 [==============================] - 0s 4ms/step - loss: 136.7549 - mae: 9.5161 - val_loss: 247.5891 - val_mae: 12.9656\n",
            "Epoch 115/200\n",
            "17/17 [==============================] - 0s 5ms/step - loss: 125.0855 - mae: 9.1638 - val_loss: 270.1636 - val_mae: 13.5794\n",
            "Epoch 116/200\n",
            "17/17 [==============================] - 0s 5ms/step - loss: 132.7641 - mae: 9.3109 - val_loss: 260.1251 - val_mae: 13.3228\n",
            "Epoch 117/200\n",
            "17/17 [==============================] - 0s 4ms/step - loss: 128.5981 - mae: 9.1003 - val_loss: 231.0591 - val_mae: 12.5194\n",
            "Epoch 118/200\n",
            "17/17 [==============================] - 0s 5ms/step - loss: 119.9918 - mae: 8.9014 - val_loss: 218.3706 - val_mae: 12.1717\n",
            "Epoch 119/200\n",
            "17/17 [==============================] - 0s 5ms/step - loss: 120.5593 - mae: 8.8165 - val_loss: 222.8383 - val_mae: 12.2930\n",
            "Epoch 120/200\n",
            "17/17 [==============================] - 0s 4ms/step - loss: 125.8158 - mae: 9.1360 - val_loss: 230.8758 - val_mae: 12.5125\n",
            "Epoch 121/200\n",
            "17/17 [==============================] - 0s 5ms/step - loss: 128.3320 - mae: 9.3191 - val_loss: 263.6544 - val_mae: 13.3996\n",
            "Epoch 122/200\n",
            "17/17 [==============================] - 0s 4ms/step - loss: 124.7275 - mae: 9.0288 - val_loss: 270.5948 - val_mae: 13.6045\n",
            "Epoch 123/200\n",
            "17/17 [==============================] - 0s 4ms/step - loss: 126.1221 - mae: 9.0635 - val_loss: 257.9703 - val_mae: 13.2676\n",
            "Epoch 124/200\n",
            "17/17 [==============================] - 0s 5ms/step - loss: 121.6306 - mae: 8.8398 - val_loss: 255.7439 - val_mae: 13.2074\n",
            "Epoch 125/200\n",
            "17/17 [==============================] - 0s 4ms/step - loss: 135.1486 - mae: 9.5060 - val_loss: 235.1729 - val_mae: 12.6492\n",
            "Epoch 126/200\n",
            "17/17 [==============================] - 0s 4ms/step - loss: 127.2275 - mae: 9.1092 - val_loss: 235.1788 - val_mae: 12.6551\n",
            "Epoch 127/200\n",
            "17/17 [==============================] - 0s 5ms/step - loss: 129.3274 - mae: 9.2350 - val_loss: 220.1957 - val_mae: 12.2518\n",
            "Epoch 128/200\n",
            "17/17 [==============================] - 0s 5ms/step - loss: 116.4504 - mae: 8.7649 - val_loss: 228.2020 - val_mae: 12.4789\n",
            "Epoch 129/200\n",
            "17/17 [==============================] - 0s 4ms/step - loss: 133.4594 - mae: 9.3590 - val_loss: 242.9907 - val_mae: 12.9005\n",
            "Epoch 130/200\n",
            "17/17 [==============================] - 0s 4ms/step - loss: 126.3794 - mae: 9.2358 - val_loss: 230.4700 - val_mae: 12.5551\n",
            "Epoch 131/200\n",
            "17/17 [==============================] - 0s 5ms/step - loss: 127.1082 - mae: 9.1424 - val_loss: 230.4115 - val_mae: 12.5491\n",
            "Epoch 132/200\n",
            "17/17 [==============================] - 0s 4ms/step - loss: 131.1976 - mae: 9.2850 - val_loss: 227.0306 - val_mae: 12.4572\n",
            "Epoch 133/200\n",
            "17/17 [==============================] - 0s 5ms/step - loss: 126.0693 - mae: 9.1353 - val_loss: 232.0705 - val_mae: 12.5973\n",
            "Epoch 134/200\n",
            "17/17 [==============================] - 0s 5ms/step - loss: 122.9280 - mae: 8.9721 - val_loss: 234.6727 - val_mae: 12.6678\n",
            "Epoch 135/200\n",
            "17/17 [==============================] - 0s 4ms/step - loss: 124.1235 - mae: 8.9886 - val_loss: 220.4088 - val_mae: 12.2739\n",
            "Epoch 136/200\n",
            "17/17 [==============================] - 0s 4ms/step - loss: 124.8809 - mae: 9.1438 - val_loss: 252.5256 - val_mae: 13.1643\n",
            "Epoch 137/200\n",
            "17/17 [==============================] - 0s 4ms/step - loss: 124.8230 - mae: 8.9506 - val_loss: 231.2585 - val_mae: 12.5790\n",
            "Epoch 138/200\n",
            "17/17 [==============================] - 0s 5ms/step - loss: 118.9318 - mae: 8.9153 - val_loss: 250.4319 - val_mae: 13.1338\n",
            "Epoch 139/200\n",
            "17/17 [==============================] - 0s 6ms/step - loss: 124.8857 - mae: 9.0000 - val_loss: 240.4734 - val_mae: 12.8497\n",
            "Epoch 140/200\n",
            "17/17 [==============================] - 0s 4ms/step - loss: 113.0812 - mae: 8.6147 - val_loss: 255.7641 - val_mae: 13.2661\n",
            "Epoch 141/200\n",
            "17/17 [==============================] - 0s 4ms/step - loss: 132.1139 - mae: 9.1161 - val_loss: 234.4550 - val_mae: 12.6794\n",
            "Epoch 142/200\n",
            "17/17 [==============================] - 0s 4ms/step - loss: 116.6008 - mae: 8.7478 - val_loss: 222.8782 - val_mae: 12.3720\n",
            "Epoch 143/200\n",
            "17/17 [==============================] - 0s 4ms/step - loss: 118.9285 - mae: 8.9157 - val_loss: 247.2092 - val_mae: 13.0557\n",
            "Epoch 144/200\n",
            "17/17 [==============================] - 0s 5ms/step - loss: 122.6009 - mae: 8.9609 - val_loss: 259.0804 - val_mae: 13.3900\n",
            "Epoch 145/200\n",
            "17/17 [==============================] - 0s 4ms/step - loss: 127.9492 - mae: 9.2097 - val_loss: 251.0052 - val_mae: 13.1718\n",
            "Epoch 146/200\n",
            "17/17 [==============================] - 0s 5ms/step - loss: 129.0217 - mae: 9.2613 - val_loss: 233.8538 - val_mae: 12.7001\n",
            "Epoch 147/200\n",
            "17/17 [==============================] - 0s 4ms/step - loss: 125.8628 - mae: 9.2337 - val_loss: 248.6043 - val_mae: 13.1123\n",
            "Epoch 148/200\n",
            "17/17 [==============================] - 0s 4ms/step - loss: 120.4370 - mae: 8.9821 - val_loss: 253.9997 - val_mae: 13.2605\n",
            "Epoch 149/200\n",
            "17/17 [==============================] - 0s 4ms/step - loss: 117.9820 - mae: 8.7323 - val_loss: 253.8278 - val_mae: 13.2771\n",
            "Epoch 150/200\n",
            "17/17 [==============================] - 0s 4ms/step - loss: 132.5018 - mae: 9.3064 - val_loss: 235.7224 - val_mae: 12.7606\n",
            "Epoch 151/200\n",
            "17/17 [==============================] - 0s 4ms/step - loss: 122.4150 - mae: 8.9594 - val_loss: 238.3706 - val_mae: 12.8457\n",
            "Epoch 152/200\n",
            "17/17 [==============================] - 0s 4ms/step - loss: 126.1153 - mae: 9.1884 - val_loss: 238.3332 - val_mae: 12.8449\n",
            "Epoch 153/200\n",
            "17/17 [==============================] - 0s 4ms/step - loss: 124.0594 - mae: 9.0698 - val_loss: 261.9016 - val_mae: 13.5004\n",
            "Epoch 154/200\n",
            "17/17 [==============================] - 0s 4ms/step - loss: 123.9786 - mae: 8.9526 - val_loss: 255.2943 - val_mae: 13.3161\n",
            "Epoch 155/200\n",
            "17/17 [==============================] - 0s 4ms/step - loss: 121.3535 - mae: 8.9731 - val_loss: 248.2107 - val_mae: 13.1207\n",
            "Epoch 156/200\n",
            "17/17 [==============================] - 0s 4ms/step - loss: 124.0921 - mae: 8.9815 - val_loss: 264.2643 - val_mae: 13.5828\n",
            "Epoch 157/200\n",
            "17/17 [==============================] - 0s 4ms/step - loss: 124.3008 - mae: 9.0624 - val_loss: 248.0675 - val_mae: 13.1535\n",
            "Epoch 158/200\n",
            "17/17 [==============================] - 0s 4ms/step - loss: 124.7643 - mae: 9.1521 - val_loss: 236.0053 - val_mae: 12.8109\n",
            "Epoch 159/200\n",
            "17/17 [==============================] - 0s 5ms/step - loss: 119.3403 - mae: 8.8341 - val_loss: 239.3708 - val_mae: 12.9059\n",
            "Epoch 160/200\n",
            "17/17 [==============================] - 0s 4ms/step - loss: 115.2333 - mae: 8.6450 - val_loss: 232.3088 - val_mae: 12.6974\n",
            "Epoch 161/200\n",
            "17/17 [==============================] - 0s 4ms/step - loss: 118.5166 - mae: 8.7332 - val_loss: 250.2150 - val_mae: 13.2151\n",
            "Epoch 162/200\n",
            "17/17 [==============================] - 0s 4ms/step - loss: 112.6568 - mae: 8.5545 - val_loss: 257.0877 - val_mae: 13.3916\n",
            "Epoch 163/200\n",
            "17/17 [==============================] - 0s 5ms/step - loss: 131.8541 - mae: 9.2504 - val_loss: 233.9334 - val_mae: 12.7301\n",
            "Epoch 164/200\n",
            "17/17 [==============================] - 0s 4ms/step - loss: 114.5204 - mae: 8.5856 - val_loss: 226.3900 - val_mae: 12.5109\n",
            "Epoch 165/200\n",
            "17/17 [==============================] - 0s 4ms/step - loss: 115.5647 - mae: 8.6780 - val_loss: 226.6308 - val_mae: 12.5212\n",
            "Epoch 166/200\n",
            "17/17 [==============================] - 0s 4ms/step - loss: 114.3467 - mae: 8.5223 - val_loss: 228.3373 - val_mae: 12.5878\n",
            "Epoch 167/200\n",
            "17/17 [==============================] - 0s 5ms/step - loss: 124.0986 - mae: 8.9516 - val_loss: 235.0391 - val_mae: 12.7821\n",
            "Epoch 168/200\n",
            "17/17 [==============================] - 0s 4ms/step - loss: 113.6172 - mae: 8.5478 - val_loss: 245.6393 - val_mae: 13.0863\n",
            "Epoch 169/200\n",
            "17/17 [==============================] - 0s 5ms/step - loss: 130.2092 - mae: 9.2910 - val_loss: 230.9646 - val_mae: 12.6671\n",
            "Epoch 170/200\n",
            "17/17 [==============================] - 0s 4ms/step - loss: 131.0666 - mae: 9.2803 - val_loss: 240.6819 - val_mae: 12.9438\n",
            "Epoch 171/200\n",
            "17/17 [==============================] - 0s 5ms/step - loss: 130.9590 - mae: 9.1995 - val_loss: 259.4734 - val_mae: 13.4606\n",
            "Epoch 172/200\n",
            "17/17 [==============================] - 0s 4ms/step - loss: 120.5559 - mae: 8.7075 - val_loss: 235.0343 - val_mae: 12.7935\n",
            "Epoch 173/200\n",
            "17/17 [==============================] - 0s 4ms/step - loss: 114.9160 - mae: 8.6732 - val_loss: 224.6706 - val_mae: 12.5016\n",
            "Epoch 174/200\n",
            "17/17 [==============================] - 0s 4ms/step - loss: 125.9726 - mae: 8.9972 - val_loss: 239.1501 - val_mae: 12.9179\n",
            "Epoch 175/200\n",
            "17/17 [==============================] - 0s 4ms/step - loss: 130.1818 - mae: 9.1998 - val_loss: 233.0698 - val_mae: 12.7372\n",
            "Epoch 176/200\n",
            "17/17 [==============================] - 0s 5ms/step - loss: 118.5566 - mae: 8.7802 - val_loss: 230.4997 - val_mae: 12.6631\n",
            "Epoch 177/200\n",
            "17/17 [==============================] - 0s 4ms/step - loss: 117.6326 - mae: 8.8645 - val_loss: 235.0642 - val_mae: 12.8005\n",
            "Epoch 178/200\n",
            "17/17 [==============================] - 0s 4ms/step - loss: 120.9995 - mae: 8.9394 - val_loss: 235.3100 - val_mae: 12.8208\n",
            "Epoch 179/200\n",
            "17/17 [==============================] - 0s 5ms/step - loss: 120.3672 - mae: 8.8646 - val_loss: 242.1285 - val_mae: 13.0179\n",
            "Epoch 180/200\n",
            "17/17 [==============================] - 0s 5ms/step - loss: 119.9074 - mae: 8.7833 - val_loss: 241.6940 - val_mae: 12.9947\n",
            "Epoch 181/200\n",
            "17/17 [==============================] - 0s 4ms/step - loss: 122.4462 - mae: 8.9576 - val_loss: 231.8753 - val_mae: 12.7079\n",
            "Epoch 182/200\n",
            "17/17 [==============================] - 0s 4ms/step - loss: 119.3299 - mae: 8.9617 - val_loss: 221.6853 - val_mae: 12.4089\n",
            "Epoch 183/200\n",
            "17/17 [==============================] - 0s 5ms/step - loss: 118.7294 - mae: 8.8630 - val_loss: 247.7074 - val_mae: 13.1579\n",
            "Epoch 184/200\n",
            "17/17 [==============================] - 0s 5ms/step - loss: 125.4759 - mae: 8.8470 - val_loss: 232.1849 - val_mae: 12.7156\n",
            "Epoch 185/200\n",
            "17/17 [==============================] - 0s 4ms/step - loss: 122.0113 - mae: 8.7280 - val_loss: 237.1954 - val_mae: 12.8686\n",
            "Epoch 186/200\n",
            "17/17 [==============================] - 0s 4ms/step - loss: 122.1206 - mae: 8.9066 - val_loss: 251.3794 - val_mae: 13.2729\n",
            "Epoch 187/200\n",
            "17/17 [==============================] - 0s 5ms/step - loss: 121.0934 - mae: 8.8114 - val_loss: 260.6321 - val_mae: 13.5146\n",
            "Epoch 188/200\n",
            "17/17 [==============================] - 0s 5ms/step - loss: 119.2413 - mae: 8.7605 - val_loss: 240.1518 - val_mae: 12.9495\n",
            "Epoch 189/200\n",
            "17/17 [==============================] - 0s 4ms/step - loss: 117.0831 - mae: 8.7774 - val_loss: 232.1888 - val_mae: 12.7184\n",
            "Epoch 190/200\n",
            "17/17 [==============================] - 0s 4ms/step - loss: 112.4197 - mae: 8.5601 - val_loss: 248.4753 - val_mae: 13.1812\n",
            "Epoch 191/200\n",
            "17/17 [==============================] - 0s 4ms/step - loss: 123.2658 - mae: 8.9084 - val_loss: 235.2478 - val_mae: 12.8170\n",
            "Epoch 192/200\n",
            "17/17 [==============================] - 0s 5ms/step - loss: 126.2107 - mae: 9.0080 - val_loss: 226.1005 - val_mae: 12.5516\n",
            "Epoch 193/200\n",
            "17/17 [==============================] - 0s 4ms/step - loss: 120.5894 - mae: 8.9617 - val_loss: 234.7979 - val_mae: 12.7988\n",
            "Epoch 194/200\n",
            "17/17 [==============================] - 0s 5ms/step - loss: 121.8401 - mae: 8.9799 - val_loss: 232.9895 - val_mae: 12.7372\n",
            "Epoch 195/200\n",
            "17/17 [==============================] - 0s 5ms/step - loss: 108.9715 - mae: 8.4206 - val_loss: 246.0682 - val_mae: 13.1278\n",
            "Epoch 196/200\n",
            "17/17 [==============================] - 0s 5ms/step - loss: 117.0676 - mae: 8.6184 - val_loss: 228.3381 - val_mae: 12.6234\n",
            "Epoch 197/200\n",
            "17/17 [==============================] - 0s 4ms/step - loss: 118.7564 - mae: 8.7903 - val_loss: 236.2890 - val_mae: 12.8464\n",
            "Epoch 198/200\n",
            "17/17 [==============================] - 0s 4ms/step - loss: 120.1969 - mae: 8.8011 - val_loss: 234.7066 - val_mae: 12.8047\n",
            "Epoch 199/200\n",
            "17/17 [==============================] - 0s 5ms/step - loss: 123.3526 - mae: 8.9449 - val_loss: 235.9814 - val_mae: 12.8266\n",
            "Epoch 200/200\n",
            "17/17 [==============================] - 0s 5ms/step - loss: 124.1997 - mae: 9.0595 - val_loss: 239.5453 - val_mae: 12.9400\n"
          ],
          "name": "stdout"
        }
      ]
    },
    {
      "cell_type": "markdown",
      "metadata": {
        "id": "TEYOPEgSFEmh"
      },
      "source": [
        "# Evaluation on Test Data"
      ]
    },
    {
      "cell_type": "code",
      "metadata": {
        "colab": {
          "base_uri": "https://localhost:8080/"
        },
        "id": "vSFGZeC8FHp8",
        "outputId": "7db320f9-3ac3-4a4c-c80c-888e9a87b2f5"
      },
      "source": [
        "\n",
        "loss, mae = model.evaluate(x_test, y_test)\n"
      ],
      "execution_count": 41,
      "outputs": [
        {
          "output_type": "stream",
          "text": [
            "7/7 [==============================] - 0s 2ms/step - loss: 226.2671 - mae: 11.6562\n"
          ],
          "name": "stdout"
        }
      ]
    },
    {
      "cell_type": "code",
      "metadata": {
        "colab": {
          "base_uri": "https://localhost:8080/"
        },
        "id": "buHMke0HFapK",
        "outputId": "2e9e2a82-55a4-435f-a9c4-16e75390b4e1"
      },
      "source": [
        "loss, mae"
      ],
      "execution_count": 42,
      "outputs": [
        {
          "output_type": "execute_result",
          "data": {
            "text/plain": [
              "(226.26712036132812, 11.656214714050293)"
            ]
          },
          "metadata": {
            "tags": []
          },
          "execution_count": 42
        }
      ]
    },
    {
      "cell_type": "markdown",
      "metadata": {
        "id": "pOAkg2BnFINb"
      },
      "source": [
        "#Prediction"
      ]
    },
    {
      "cell_type": "code",
      "metadata": {
        "id": "EPmR8_ZKFKbO",
        "colab": {
          "base_uri": "https://localhost:8080/"
        },
        "outputId": "b898253c-9c79-4770-8845-402c693bed4f"
      },
      "source": [
        "pred = model.predict(x_test[0:5])\n",
        "pred"
      ],
      "execution_count": 43,
      "outputs": [
        {
          "output_type": "execute_result",
          "data": {
            "text/plain": [
              "array([[27.01664 ],\n",
              "       [43.323128],\n",
              "       [43.993305],\n",
              "       [61.59108 ],\n",
              "       [63.595345]], dtype=float32)"
            ]
          },
          "metadata": {
            "tags": []
          },
          "execution_count": 43
        }
      ]
    }
  ]
}