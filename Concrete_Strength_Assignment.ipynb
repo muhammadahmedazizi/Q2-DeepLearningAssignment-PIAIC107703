{
  "nbformat": 4,
  "nbformat_minor": 0,
  "metadata": {
    "kernelspec": {
      "display_name": "Python 3",
      "language": "python",
      "name": "python3"
    },
    "language_info": {
      "codemirror_mode": {
        "name": "ipython",
        "version": 3
      },
      "file_extension": ".py",
      "mimetype": "text/x-python",
      "name": "python",
      "nbconvert_exporter": "python",
      "pygments_lexer": "ipython3",
      "version": "3.7.3"
    },
    "colab": {
      "name": "Concrete Strength Assignment.ipynb",
      "provenance": [],
      "collapsed_sections": []
    }
  },
  "cells": [
    {
      "cell_type": "markdown",
      "metadata": {
        "id": "-5u2ToMn1gFU"
      },
      "source": [
        "# Assignment: Compresive Strength Concrete Problem\n",
        "\n",
        "\n",
        "### Abstract: \n",
        "\n",
        "Concrete is the most important material in civil engineering. The concrete compressive strength (concrete strength to bear the load) is a highly nonlinear function of age and ingredients.  <br><br>\n",
        "\n",
        "<table border=\"1\"  cellpadding=\"6\" bordercolor=\"red\">\n",
        "\t<tbody>\n",
        "        <tr>\n",
        "\t\t<td bgcolor=\"#DDEEFF\"><p class=\"normal\"><b>Data Set Characteristics:&nbsp;&nbsp;</b></p></td>\n",
        "\t\t<td><p class=\"normal\">Multivariate</p></td>\n",
        "\t\t<td bgcolor=\"#DDEEFF\"><p class=\"normal\"><b>Number of Instances:</b></p></td>\n",
        "\t\t<td><p class=\"normal\">1030</p></td>\n",
        "\t\t<td bgcolor=\"#DDEEFF\"><p class=\"normal\"><b>Area:</b></p></td>\n",
        "\t\t<td><p class=\"normal\">Physical</p></td>\n",
        "        </tr>\n",
        "     </tbody>\n",
        "    </table>\n",
        "<table border=\"1\" cellpadding=\"6\">\n",
        "    <tbody>\n",
        "        <tr>\n",
        "            <td bgcolor=\"#DDEEFF\"><p class=\"normal\"><b>Attribute Characteristics:</b></p></td>\n",
        "            <td><p class=\"normal\">Real</p></td>\n",
        "            <td bgcolor=\"#DDEEFF\"><p class=\"normal\"><b>Number of Attributes:</b></p></td>\n",
        "            <td><p class=\"normal\">9</p></td>\n",
        "            <td bgcolor=\"#DDEEFF\"><p class=\"normal\"><b>Date Donated</b></p></td>\n",
        "            <td><p class=\"normal\">2007-08-03</p></td>\n",
        "        </tr>\n",
        "     </tbody>\n",
        "    </table>\n",
        "<table border=\"1\" cellpadding=\"6\">\t\n",
        "    <tbody>\n",
        "    <tr>\n",
        "\t\t<td bgcolor=\"#DDEEFF\"><p class=\"normal\"><b>Associated Tasks:</b></p></td>\n",
        "\t\t<td><p class=\"normal\">Regression</p></td>\n",
        "\t\t<td bgcolor=\"#DDEEFF\"><p class=\"normal\"><b>Missing Values?</b></p></td>\n",
        "\t\t<td><p class=\"normal\">N/A</p></td>\n",
        "\t\t<td bgcolor=\"#DDEEFF\"><p class=\"normal\"><b>Number of Web Hits:</b></p></td>\n",
        "\t\t<td><p class=\"normal\">231464</p></td>\n",
        "\t</tr>\n",
        "    </tbody>\n",
        "    </table>"
      ]
    },
    {
      "cell_type": "markdown",
      "metadata": {
        "id": "AWnSIkCN1gFY"
      },
      "source": [
        "###  Description:\n",
        "| Features Name | Data Type | Measurement | Description |\n",
        "| -- | -- | -- | -- |\n",
        "Cement (component 1) | quantitative | kg in a m3 mixture | Input Variable\n",
        "Blast Furnace Slag (component 2) | quantitative | kg in a m3 mixture | Input Variable\n",
        "Fly Ash (component 3) | quantitative | kg in a m3 mixture | Input Variable\n",
        "Water (component 4) | quantitative | kg in a m3 mixture | Input Variable\n",
        "Superplasticizer (component 5) | quantitative | kg in a m3 mixture | Input Variable\n",
        "Coarse Aggregate (component 6) | quantitative | kg in a m3 mixture | Input Variable\n",
        "Fine Aggregate (component 7) | quantitative | kg in a m3 mixture | Input Variable\n",
        "Age | quantitative | Day (1~365) | Input Variable\n",
        "Concrete compressive strength | quantitative | MPa | Output Variable\n",
        "\n",
        "### WORKFLOW :\n",
        "- Load Data\n",
        "- Check Missing Values ( If Exist ; Fill each record with mean of its feature )\n",
        "- Standardized the Input Variables. **Hint**: Centeralized the data\n",
        "- Split into 50% Training(Samples,Labels) , 30% Test(Samples,Labels) and 20% Validation Data(Samples,Labels).\n",
        "- Model : input Layer (No. of features ), 3 hidden layers including 10,8,6 unit & Output Layer with activation function relu/tanh (check by experiment).\n",
        "- Compilation Step (Note : Its a Regression problem , select loss , metrics according to it)\n",
        "- Train the Model with Epochs (100) and validate it\n",
        "- If the model gets overfit tune your model by changing the units , No. of layers , activation function , epochs , add dropout layer or add Regularizer according to the need .\n",
        "- Evaluation Step\n",
        "- Prediction\n"
      ]
    },
    {
      "cell_type": "markdown",
      "metadata": {
        "id": "q0LFm8s21gFZ"
      },
      "source": [
        "# Load Data:\n",
        "[Click Here to Download DataSet](https://github.com/ramsha275/ML_Datasets/blob/main/compresive_strength_concrete.csv)"
      ]
    },
    {
      "cell_type": "code",
      "metadata": {
        "id": "7WMFupabR2or"
      },
      "source": [
        "import numpy as np\n",
        "import pandas as pd\n",
        "import tensorflow as tf\n",
        "import seaborn as sns\n",
        "import matplotlib.pyplot as plt\n",
        "from tensorflow.keras.models import Sequential\n",
        "from tensorflow.keras.layers import Dense\n",
        "from tensorflow.keras.optimizers import Adam, SGD"
      ],
      "execution_count": null,
      "outputs": []
    },
    {
      "cell_type": "code",
      "metadata": {
        "colab": {
          "base_uri": "https://localhost:8080/"
        },
        "id": "G74AIeVp1xdB",
        "outputId": "27c06792-130f-4099-df27-298c8c498d59"
      },
      "source": [
        "from google.colab import drive\n",
        "drive.mount('/content/gdrive')"
      ],
      "execution_count": null,
      "outputs": [
        {
          "output_type": "stream",
          "text": [
            "Mounted at /content/gdrive\n"
          ],
          "name": "stdout"
        }
      ]
    },
    {
      "cell_type": "code",
      "metadata": {
        "id": "heg5sSsf125_"
      },
      "source": [
        "data = pd.read_csv('/content/gdrive/MyDrive/compresive_strength_concrete.csv')"
      ],
      "execution_count": null,
      "outputs": []
    },
    {
      "cell_type": "code",
      "metadata": {
        "colab": {
          "base_uri": "https://localhost:8080/"
        },
        "id": "rnaB4E0K2cqe",
        "outputId": "aa7db00a-552f-4fcf-a891-aa3e5c45efdc"
      },
      "source": [
        "data.shape"
      ],
      "execution_count": null,
      "outputs": [
        {
          "output_type": "execute_result",
          "data": {
            "text/plain": [
              "(1030, 9)"
            ]
          },
          "metadata": {
            "tags": []
          },
          "execution_count": 4
        }
      ]
    },
    {
      "cell_type": "code",
      "metadata": {
        "colab": {
          "base_uri": "https://localhost:8080/",
          "height": 258
        },
        "id": "40DkvdoH2iWd",
        "outputId": "9a2af2e6-a262-49c2-9eb3-924eab40f5fb"
      },
      "source": [
        "data.head()"
      ],
      "execution_count": null,
      "outputs": [
        {
          "output_type": "execute_result",
          "data": {
            "text/html": [
              "<div>\n",
              "<style scoped>\n",
              "    .dataframe tbody tr th:only-of-type {\n",
              "        vertical-align: middle;\n",
              "    }\n",
              "\n",
              "    .dataframe tbody tr th {\n",
              "        vertical-align: top;\n",
              "    }\n",
              "\n",
              "    .dataframe thead th {\n",
              "        text-align: right;\n",
              "    }\n",
              "</style>\n",
              "<table border=\"1\" class=\"dataframe\">\n",
              "  <thead>\n",
              "    <tr style=\"text-align: right;\">\n",
              "      <th></th>\n",
              "      <th>Cement (component 1)(kg in a m^3 mixture)</th>\n",
              "      <th>Blast Furnace Slag (component 2)(kg in a m^3 mixture)</th>\n",
              "      <th>Fly Ash (component 3)(kg in a m^3 mixture)</th>\n",
              "      <th>Water  (component 4)(kg in a m^3 mixture)</th>\n",
              "      <th>Superplasticizer (component 5)(kg in a m^3 mixture)</th>\n",
              "      <th>Coarse Aggregate  (component 6)(kg in a m^3 mixture)</th>\n",
              "      <th>Fine Aggregate (component 7)(kg in a m^3 mixture)</th>\n",
              "      <th>Age (day)</th>\n",
              "      <th>Concrete compressive strength(MPa, megapascals)</th>\n",
              "    </tr>\n",
              "  </thead>\n",
              "  <tbody>\n",
              "    <tr>\n",
              "      <th>0</th>\n",
              "      <td>540.0</td>\n",
              "      <td>0.0</td>\n",
              "      <td>0.0</td>\n",
              "      <td>162.0</td>\n",
              "      <td>2.5</td>\n",
              "      <td>1040.0</td>\n",
              "      <td>676.0</td>\n",
              "      <td>28</td>\n",
              "      <td>79.99</td>\n",
              "    </tr>\n",
              "    <tr>\n",
              "      <th>1</th>\n",
              "      <td>540.0</td>\n",
              "      <td>0.0</td>\n",
              "      <td>0.0</td>\n",
              "      <td>162.0</td>\n",
              "      <td>2.5</td>\n",
              "      <td>1055.0</td>\n",
              "      <td>676.0</td>\n",
              "      <td>28</td>\n",
              "      <td>61.89</td>\n",
              "    </tr>\n",
              "    <tr>\n",
              "      <th>2</th>\n",
              "      <td>332.5</td>\n",
              "      <td>142.5</td>\n",
              "      <td>0.0</td>\n",
              "      <td>228.0</td>\n",
              "      <td>0.0</td>\n",
              "      <td>932.0</td>\n",
              "      <td>594.0</td>\n",
              "      <td>270</td>\n",
              "      <td>40.27</td>\n",
              "    </tr>\n",
              "    <tr>\n",
              "      <th>3</th>\n",
              "      <td>332.5</td>\n",
              "      <td>142.5</td>\n",
              "      <td>0.0</td>\n",
              "      <td>228.0</td>\n",
              "      <td>0.0</td>\n",
              "      <td>932.0</td>\n",
              "      <td>594.0</td>\n",
              "      <td>365</td>\n",
              "      <td>41.05</td>\n",
              "    </tr>\n",
              "    <tr>\n",
              "      <th>4</th>\n",
              "      <td>198.6</td>\n",
              "      <td>132.4</td>\n",
              "      <td>0.0</td>\n",
              "      <td>192.0</td>\n",
              "      <td>0.0</td>\n",
              "      <td>978.4</td>\n",
              "      <td>825.5</td>\n",
              "      <td>360</td>\n",
              "      <td>44.30</td>\n",
              "    </tr>\n",
              "  </tbody>\n",
              "</table>\n",
              "</div>"
            ],
            "text/plain": [
              "   Cement (component 1)(kg in a m^3 mixture)  ...  Concrete compressive strength(MPa, megapascals) \n",
              "0                                      540.0  ...                                             79.99\n",
              "1                                      540.0  ...                                             61.89\n",
              "2                                      332.5  ...                                             40.27\n",
              "3                                      332.5  ...                                             41.05\n",
              "4                                      198.6  ...                                             44.30\n",
              "\n",
              "[5 rows x 9 columns]"
            ]
          },
          "metadata": {
            "tags": []
          },
          "execution_count": 5
        }
      ]
    },
    {
      "cell_type": "markdown",
      "metadata": {
        "id": "wYCRojDW2v4f"
      },
      "source": [
        "##Checking Missing Values ( If Exist ; Fill each record with mean of its feature )"
      ]
    },
    {
      "cell_type": "code",
      "metadata": {
        "colab": {
          "base_uri": "https://localhost:8080/"
        },
        "id": "yL1x1dgI26sj",
        "outputId": "8891cb81-abdf-4223-8a83-85267830998b"
      },
      "source": [
        "data.isnull().sum()"
      ],
      "execution_count": null,
      "outputs": [
        {
          "output_type": "execute_result",
          "data": {
            "text/plain": [
              "Cement (component 1)(kg in a m^3 mixture)                0\n",
              "Blast Furnace Slag (component 2)(kg in a m^3 mixture)    0\n",
              "Fly Ash (component 3)(kg in a m^3 mixture)               0\n",
              "Water  (component 4)(kg in a m^3 mixture)                0\n",
              "Superplasticizer (component 5)(kg in a m^3 mixture)      0\n",
              "Coarse Aggregate  (component 6)(kg in a m^3 mixture)     0\n",
              "Fine Aggregate (component 7)(kg in a m^3 mixture)        0\n",
              "Age (day)                                                0\n",
              "Concrete compressive strength(MPa, megapascals)          0\n",
              "dtype: int64"
            ]
          },
          "metadata": {
            "tags": []
          },
          "execution_count": 6
        }
      ]
    },
    {
      "cell_type": "code",
      "metadata": {
        "colab": {
          "base_uri": "https://localhost:8080/"
        },
        "id": "wAnqcDZ63C3-",
        "outputId": "1f2efba4-5132-4f45-f561-72ed83d8624f"
      },
      "source": [
        "data.info()"
      ],
      "execution_count": null,
      "outputs": [
        {
          "output_type": "stream",
          "text": [
            "<class 'pandas.core.frame.DataFrame'>\n",
            "RangeIndex: 1030 entries, 0 to 1029\n",
            "Data columns (total 9 columns):\n",
            " #   Column                                                 Non-Null Count  Dtype  \n",
            "---  ------                                                 --------------  -----  \n",
            " 0   Cement (component 1)(kg in a m^3 mixture)              1030 non-null   float64\n",
            " 1   Blast Furnace Slag (component 2)(kg in a m^3 mixture)  1030 non-null   float64\n",
            " 2   Fly Ash (component 3)(kg in a m^3 mixture)             1030 non-null   float64\n",
            " 3   Water  (component 4)(kg in a m^3 mixture)              1030 non-null   float64\n",
            " 4   Superplasticizer (component 5)(kg in a m^3 mixture)    1030 non-null   float64\n",
            " 5   Coarse Aggregate  (component 6)(kg in a m^3 mixture)   1030 non-null   float64\n",
            " 6   Fine Aggregate (component 7)(kg in a m^3 mixture)      1030 non-null   float64\n",
            " 7   Age (day)                                              1030 non-null   int64  \n",
            " 8   Concrete compressive strength(MPa, megapascals)        1030 non-null   float64\n",
            "dtypes: float64(8), int64(1)\n",
            "memory usage: 72.5 KB\n"
          ],
          "name": "stdout"
        }
      ]
    },
    {
      "cell_type": "code",
      "metadata": {
        "id": "n5SJt4K83MVz"
      },
      "source": [
        "# Separating Input and Output Colmumns \n",
        "X = data.iloc[:, :-1].values  # Input Columns\n",
        "Y = data.iloc[:, -1:].values # Output Columns "
      ],
      "execution_count": null,
      "outputs": []
    },
    {
      "cell_type": "code",
      "metadata": {
        "colab": {
          "base_uri": "https://localhost:8080/"
        },
        "id": "SoGSMA7V7zUM",
        "outputId": "28684efb-2bcd-472d-c853-314c72a55663"
      },
      "source": [
        "X"
      ],
      "execution_count": null,
      "outputs": [
        {
          "output_type": "execute_result",
          "data": {
            "text/plain": [
              "array([[ 540. ,    0. ,    0. , ..., 1040. ,  676. ,   28. ],\n",
              "       [ 540. ,    0. ,    0. , ..., 1055. ,  676. ,   28. ],\n",
              "       [ 332.5,  142.5,    0. , ...,  932. ,  594. ,  270. ],\n",
              "       ...,\n",
              "       [ 148.5,  139.4,  108.6, ...,  892.4,  780. ,   28. ],\n",
              "       [ 159.1,  186.7,    0. , ...,  989.6,  788.9,   28. ],\n",
              "       [ 260.9,  100.5,   78.3, ...,  864.5,  761.5,   28. ]])"
            ]
          },
          "metadata": {
            "tags": []
          },
          "execution_count": 9
        }
      ]
    },
    {
      "cell_type": "code",
      "metadata": {
        "colab": {
          "base_uri": "https://localhost:8080/"
        },
        "id": "A9HGiDdz84Jw",
        "outputId": "8a05c77b-31c0-447d-b983-f4c69a86c379"
      },
      "source": [
        "Y"
      ],
      "execution_count": null,
      "outputs": [
        {
          "output_type": "execute_result",
          "data": {
            "text/plain": [
              "array([[79.99],\n",
              "       [61.89],\n",
              "       [40.27],\n",
              "       ...,\n",
              "       [23.7 ],\n",
              "       [32.77],\n",
              "       [32.4 ]])"
            ]
          },
          "metadata": {
            "tags": []
          },
          "execution_count": 10
        }
      ]
    },
    {
      "cell_type": "markdown",
      "metadata": {
        "id": "5fC9-iXU93nb"
      },
      "source": [
        "# Splitting Data \n",
        "###Split into 50% Training(Samples,Labels) , 30% Test(Samples,Labels) and 20% Validation Data(Samples,Labels)."
      ]
    },
    {
      "cell_type": "code",
      "metadata": {
        "id": "bfZn371q92oN"
      },
      "source": [
        "X.shape\n",
        "x_train = X[:515,] # 50% Training \n",
        "x_test = X[515:824,] # 30% Test \n",
        "x_val = X[824:,] # 20% Validatation\n",
        "\n",
        "y_train = Y[:515,] # 50% Training\n",
        "y_test = Y[515:824,] # 30% Test\n",
        "y_val = Y[824:,] # 20% Validataion\n"
      ],
      "execution_count": null,
      "outputs": []
    },
    {
      "cell_type": "code",
      "metadata": {
        "colab": {
          "base_uri": "https://localhost:8080/"
        },
        "id": "svuh2wph-2_P",
        "outputId": "35c7e29a-35de-49e9-83ad-6bdf4e5eb093"
      },
      "source": [
        "print (x_train.shape, x_test.shape, x_val.shape)\n",
        "print (y_train.shape, y_test.shape, y_val.shape)"
      ],
      "execution_count": null,
      "outputs": [
        {
          "output_type": "stream",
          "text": [
            "(515, 8) (309, 8) (206, 8)\n",
            "(515, 1) (309, 1) (206, 1)\n"
          ],
          "name": "stdout"
        }
      ]
    },
    {
      "cell_type": "markdown",
      "metadata": {
        "id": "JfxkDeSeClc-"
      },
      "source": [
        "# Standardization of Training / Test / Validation Data "
      ]
    },
    {
      "cell_type": "code",
      "metadata": {
        "id": "TpxZlLUEA0xT"
      },
      "source": [
        "mean = x_train.mean(axis=0)\n",
        "x_train -= mean\n",
        "std = x_train.std(axis=0)\n",
        "x_train /= std\n",
        "\n",
        "\n",
        "x_val -= mean\n",
        "x_val /= std\n",
        "\n",
        "x_test -= mean\n",
        "x_test /= std\n",
        "\n"
      ],
      "execution_count": null,
      "outputs": []
    },
    {
      "cell_type": "code",
      "metadata": {
        "colab": {
          "base_uri": "https://localhost:8080/"
        },
        "id": "3Xj0CfxCCeXE",
        "outputId": "f67aa841-6c9a-4fa5-9957-412f87bd7f7f"
      },
      "source": [
        "print (x_train.shape, x_test.shape, x_val.shape)\n",
        "print (y_train.shape, y_test.shape, y_val.shape)"
      ],
      "execution_count": null,
      "outputs": [
        {
          "output_type": "stream",
          "text": [
            "(515, 8) (309, 8) (206, 8)\n",
            "(515, 1) (309, 1) (206, 1)\n"
          ],
          "name": "stdout"
        }
      ]
    },
    {
      "cell_type": "markdown",
      "metadata": {
        "id": "kn5voCKXEzv4"
      },
      "source": [
        "# Setting up the model"
      ]
    },
    {
      "cell_type": "code",
      "metadata": {
        "id": "MiHNrR9ODMdD"
      },
      "source": [
        "model = Sequential()\n",
        "model.add(tf.keras.layers.Dense(10, activation='relu',input_shape=(8,)))\n",
        "model.add(tf.keras.layers.Dense(8,))\n",
        "model.add(tf.keras.layers.Dense(6,))\n",
        "model.add(tf.keras.layers.Dense(1,))"
      ],
      "execution_count": null,
      "outputs": []
    },
    {
      "cell_type": "markdown",
      "metadata": {
        "id": "M6Mv3_dqE7B8"
      },
      "source": [
        "# Model Compilation"
      ]
    },
    {
      "cell_type": "code",
      "metadata": {
        "id": "xyQ2ih8GEQj-"
      },
      "source": [
        "model.compile(optimizer='rmsprop', loss='mse', metrics=['mae'])"
      ],
      "execution_count": null,
      "outputs": []
    },
    {
      "cell_type": "markdown",
      "metadata": {
        "id": "xXih_g-tE_AD"
      },
      "source": [
        "# Training"
      ]
    },
    {
      "cell_type": "code",
      "metadata": {
        "colab": {
          "base_uri": "https://localhost:8080/"
        },
        "id": "PPDl_XcNEWre",
        "outputId": "02df3aa7-4bd5-4210-de41-f873b8d5bbe8"
      },
      "source": [
        "history = model.fit(x_train, y_train,epochs=200, validation_data =(x_val, y_val))"
      ],
      "execution_count": null,
      "outputs": [
        {
          "output_type": "stream",
          "text": [
            "Epoch 1/200\n",
            "17/17 [==============================] - 1s 32ms/step - loss: 1978.3941 - mae: 41.0967 - val_loss: 1190.5719 - val_mae: 32.1185\n",
            "Epoch 2/200\n",
            "17/17 [==============================] - 0s 4ms/step - loss: 2096.3644 - mae: 42.3634 - val_loss: 1170.3099 - val_mae: 31.7838\n",
            "Epoch 3/200\n",
            "17/17 [==============================] - 0s 4ms/step - loss: 1957.0862 - mae: 40.8469 - val_loss: 1146.7654 - val_mae: 31.3909\n",
            "Epoch 4/200\n",
            "17/17 [==============================] - 0s 4ms/step - loss: 1919.9737 - mae: 40.2857 - val_loss: 1117.8638 - val_mae: 30.8973\n",
            "Epoch 5/200\n",
            "17/17 [==============================] - 0s 4ms/step - loss: 1960.6422 - mae: 40.6686 - val_loss: 1087.1042 - val_mae: 30.3563\n",
            "Epoch 6/200\n",
            "17/17 [==============================] - 0s 4ms/step - loss: 1879.4198 - mae: 39.4622 - val_loss: 1049.7415 - val_mae: 29.6907\n",
            "Epoch 7/200\n",
            "17/17 [==============================] - 0s 4ms/step - loss: 1803.1378 - mae: 38.4620 - val_loss: 1007.3506 - val_mae: 28.9111\n",
            "Epoch 8/200\n",
            "17/17 [==============================] - 0s 4ms/step - loss: 1657.2702 - mae: 36.6519 - val_loss: 959.3810 - val_mae: 27.9969\n",
            "Epoch 9/200\n",
            "17/17 [==============================] - 0s 4ms/step - loss: 1649.0230 - mae: 36.2924 - val_loss: 906.0616 - val_mae: 26.9481\n",
            "Epoch 10/200\n",
            "17/17 [==============================] - 0s 4ms/step - loss: 1524.7123 - mae: 34.5638 - val_loss: 849.3334 - val_mae: 25.8166\n",
            "Epoch 11/200\n",
            "17/17 [==============================] - 0s 4ms/step - loss: 1303.1657 - mae: 31.5118 - val_loss: 789.7632 - val_mae: 24.6635\n",
            "Epoch 12/200\n",
            "17/17 [==============================] - 0s 4ms/step - loss: 1198.6986 - mae: 29.7868 - val_loss: 727.5369 - val_mae: 23.6763\n",
            "Epoch 13/200\n",
            "17/17 [==============================] - 0s 4ms/step - loss: 1151.2157 - mae: 28.4197 - val_loss: 660.9540 - val_mae: 22.6771\n",
            "Epoch 14/200\n",
            "17/17 [==============================] - 0s 4ms/step - loss: 972.0454 - mae: 26.0843 - val_loss: 593.0152 - val_mae: 21.5707\n",
            "Epoch 15/200\n",
            "17/17 [==============================] - 0s 4ms/step - loss: 861.7683 - mae: 23.6809 - val_loss: 529.1714 - val_mae: 20.4227\n",
            "Epoch 16/200\n",
            "17/17 [==============================] - 0s 4ms/step - loss: 742.6213 - mae: 21.8886 - val_loss: 468.3961 - val_mae: 19.1879\n",
            "Epoch 17/200\n",
            "17/17 [==============================] - 0s 4ms/step - loss: 631.2169 - mae: 19.7935 - val_loss: 410.7939 - val_mae: 17.8844\n",
            "Epoch 18/200\n",
            "17/17 [==============================] - 0s 4ms/step - loss: 513.4838 - mae: 17.5932 - val_loss: 353.3153 - val_mae: 16.4120\n",
            "Epoch 19/200\n",
            "17/17 [==============================] - 0s 5ms/step - loss: 422.1306 - mae: 15.8148 - val_loss: 308.8400 - val_mae: 15.1258\n",
            "Epoch 20/200\n",
            "17/17 [==============================] - 0s 4ms/step - loss: 412.3792 - mae: 16.1539 - val_loss: 265.3090 - val_mae: 13.6675\n",
            "Epoch 21/200\n",
            "17/17 [==============================] - 0s 4ms/step - loss: 351.0239 - mae: 14.9649 - val_loss: 235.5803 - val_mae: 12.6556\n",
            "Epoch 22/200\n",
            "17/17 [==============================] - 0s 5ms/step - loss: 309.6059 - mae: 13.8089 - val_loss: 215.5001 - val_mae: 11.9696\n",
            "Epoch 23/200\n",
            "17/17 [==============================] - 0s 4ms/step - loss: 297.5543 - mae: 13.7833 - val_loss: 198.2458 - val_mae: 11.4672\n",
            "Epoch 24/200\n",
            "17/17 [==============================] - 0s 4ms/step - loss: 285.9995 - mae: 13.7002 - val_loss: 186.0149 - val_mae: 11.0824\n",
            "Epoch 25/200\n",
            "17/17 [==============================] - 0s 4ms/step - loss: 275.2496 - mae: 13.5774 - val_loss: 176.2354 - val_mae: 10.7529\n",
            "Epoch 26/200\n",
            "17/17 [==============================] - 0s 4ms/step - loss: 253.4085 - mae: 13.0739 - val_loss: 163.5934 - val_mae: 10.2495\n",
            "Epoch 27/200\n",
            "17/17 [==============================] - 0s 4ms/step - loss: 243.9601 - mae: 12.6684 - val_loss: 165.3678 - val_mae: 10.4027\n",
            "Epoch 28/200\n",
            "17/17 [==============================] - 0s 4ms/step - loss: 259.5148 - mae: 13.1933 - val_loss: 159.7678 - val_mae: 10.1643\n",
            "Epoch 29/200\n",
            "17/17 [==============================] - 0s 4ms/step - loss: 256.1726 - mae: 13.2617 - val_loss: 156.4348 - val_mae: 10.0872\n",
            "Epoch 30/200\n",
            "17/17 [==============================] - 0s 4ms/step - loss: 244.6653 - mae: 12.9103 - val_loss: 151.4808 - val_mae: 9.9456\n",
            "Epoch 31/200\n",
            "17/17 [==============================] - 0s 4ms/step - loss: 224.8076 - mae: 12.3239 - val_loss: 150.1601 - val_mae: 9.9549\n",
            "Epoch 32/200\n",
            "17/17 [==============================] - 0s 5ms/step - loss: 223.7790 - mae: 12.1547 - val_loss: 148.5811 - val_mae: 9.9354\n",
            "Epoch 33/200\n",
            "17/17 [==============================] - 0s 4ms/step - loss: 225.9358 - mae: 12.3738 - val_loss: 148.9952 - val_mae: 9.9633\n",
            "Epoch 34/200\n",
            "17/17 [==============================] - 0s 4ms/step - loss: 209.7680 - mae: 11.9924 - val_loss: 145.0471 - val_mae: 9.8928\n",
            "Epoch 35/200\n",
            "17/17 [==============================] - 0s 4ms/step - loss: 196.5995 - mae: 11.6051 - val_loss: 145.4229 - val_mae: 9.9074\n",
            "Epoch 36/200\n",
            "17/17 [==============================] - 0s 4ms/step - loss: 216.1061 - mae: 12.2356 - val_loss: 145.2546 - val_mae: 9.9513\n",
            "Epoch 37/200\n",
            "17/17 [==============================] - 0s 4ms/step - loss: 191.4631 - mae: 11.3647 - val_loss: 145.1109 - val_mae: 9.8997\n",
            "Epoch 38/200\n",
            "17/17 [==============================] - 0s 4ms/step - loss: 199.3261 - mae: 11.5704 - val_loss: 143.3061 - val_mae: 9.8508\n",
            "Epoch 39/200\n",
            "17/17 [==============================] - 0s 4ms/step - loss: 202.0848 - mae: 11.5748 - val_loss: 142.9903 - val_mae: 9.8294\n",
            "Epoch 40/200\n",
            "17/17 [==============================] - 0s 4ms/step - loss: 197.3054 - mae: 11.5941 - val_loss: 141.8804 - val_mae: 9.8503\n",
            "Epoch 41/200\n",
            "17/17 [==============================] - 0s 4ms/step - loss: 184.8669 - mae: 11.0606 - val_loss: 143.4759 - val_mae: 9.9256\n",
            "Epoch 42/200\n",
            "17/17 [==============================] - 0s 4ms/step - loss: 176.5970 - mae: 11.0060 - val_loss: 141.7080 - val_mae: 9.8586\n",
            "Epoch 43/200\n",
            "17/17 [==============================] - 0s 4ms/step - loss: 196.5424 - mae: 11.4257 - val_loss: 139.9885 - val_mae: 9.8629\n",
            "Epoch 44/200\n",
            "17/17 [==============================] - 0s 4ms/step - loss: 177.3792 - mae: 10.8443 - val_loss: 139.5147 - val_mae: 9.8291\n",
            "Epoch 45/200\n",
            "17/17 [==============================] - 0s 4ms/step - loss: 174.5301 - mae: 10.8700 - val_loss: 139.6254 - val_mae: 9.8406\n",
            "Epoch 46/200\n",
            "17/17 [==============================] - 0s 4ms/step - loss: 179.3992 - mae: 10.9942 - val_loss: 139.3153 - val_mae: 9.7856\n",
            "Epoch 47/200\n",
            "17/17 [==============================] - 0s 4ms/step - loss: 174.2894 - mae: 10.7054 - val_loss: 138.9615 - val_mae: 9.7820\n",
            "Epoch 48/200\n",
            "17/17 [==============================] - 0s 4ms/step - loss: 170.7050 - mae: 10.8095 - val_loss: 139.7568 - val_mae: 9.8056\n",
            "Epoch 49/200\n",
            "17/17 [==============================] - 0s 4ms/step - loss: 175.5149 - mae: 10.7598 - val_loss: 137.4462 - val_mae: 9.7509\n",
            "Epoch 50/200\n",
            "17/17 [==============================] - 0s 5ms/step - loss: 165.4587 - mae: 10.5213 - val_loss: 139.1639 - val_mae: 9.8186\n",
            "Epoch 51/200\n",
            "17/17 [==============================] - 0s 4ms/step - loss: 152.7835 - mae: 10.0042 - val_loss: 138.5543 - val_mae: 9.8123\n",
            "Epoch 52/200\n",
            "17/17 [==============================] - 0s 4ms/step - loss: 176.9081 - mae: 10.8158 - val_loss: 140.1124 - val_mae: 9.8777\n",
            "Epoch 53/200\n",
            "17/17 [==============================] - 0s 4ms/step - loss: 161.8630 - mae: 10.3960 - val_loss: 140.2484 - val_mae: 9.8749\n",
            "Epoch 54/200\n",
            "17/17 [==============================] - 0s 4ms/step - loss: 164.5728 - mae: 10.2490 - val_loss: 140.1898 - val_mae: 9.8691\n",
            "Epoch 55/200\n",
            "17/17 [==============================] - 0s 4ms/step - loss: 173.5505 - mae: 10.7893 - val_loss: 137.9387 - val_mae: 9.8450\n",
            "Epoch 56/200\n",
            "17/17 [==============================] - 0s 4ms/step - loss: 141.3198 - mae: 9.6344 - val_loss: 135.7606 - val_mae: 9.7831\n",
            "Epoch 57/200\n",
            "17/17 [==============================] - 0s 4ms/step - loss: 159.5397 - mae: 10.3715 - val_loss: 135.1390 - val_mae: 9.7760\n",
            "Epoch 58/200\n",
            "17/17 [==============================] - 0s 4ms/step - loss: 154.3700 - mae: 10.0047 - val_loss: 137.4103 - val_mae: 9.9155\n",
            "Epoch 59/200\n",
            "17/17 [==============================] - 0s 4ms/step - loss: 153.5441 - mae: 10.1059 - val_loss: 138.6134 - val_mae: 9.9843\n",
            "Epoch 60/200\n",
            "17/17 [==============================] - 0s 4ms/step - loss: 146.8066 - mae: 9.7567 - val_loss: 138.0287 - val_mae: 9.9747\n",
            "Epoch 61/200\n",
            "17/17 [==============================] - 0s 4ms/step - loss: 145.3295 - mae: 9.9130 - val_loss: 137.4034 - val_mae: 9.9768\n",
            "Epoch 62/200\n",
            "17/17 [==============================] - 0s 4ms/step - loss: 161.4368 - mae: 10.4322 - val_loss: 135.8228 - val_mae: 9.9205\n",
            "Epoch 63/200\n",
            "17/17 [==============================] - 0s 4ms/step - loss: 150.7881 - mae: 9.9496 - val_loss: 134.6038 - val_mae: 9.8871\n",
            "Epoch 64/200\n",
            "17/17 [==============================] - 0s 5ms/step - loss: 143.3521 - mae: 9.8069 - val_loss: 135.1318 - val_mae: 9.9161\n",
            "Epoch 65/200\n",
            "17/17 [==============================] - 0s 4ms/step - loss: 146.0236 - mae: 9.6808 - val_loss: 135.4029 - val_mae: 9.9120\n",
            "Epoch 66/200\n",
            "17/17 [==============================] - 0s 4ms/step - loss: 153.4334 - mae: 10.0794 - val_loss: 136.8022 - val_mae: 9.9725\n",
            "Epoch 67/200\n",
            "17/17 [==============================] - 0s 4ms/step - loss: 142.3091 - mae: 9.4999 - val_loss: 135.3526 - val_mae: 9.9368\n",
            "Epoch 68/200\n",
            "17/17 [==============================] - 0s 4ms/step - loss: 152.1400 - mae: 10.0302 - val_loss: 136.0729 - val_mae: 9.9840\n",
            "Epoch 69/200\n",
            "17/17 [==============================] - 0s 4ms/step - loss: 149.3993 - mae: 9.9679 - val_loss: 137.6180 - val_mae: 10.0279\n",
            "Epoch 70/200\n",
            "17/17 [==============================] - 0s 4ms/step - loss: 148.5783 - mae: 9.8478 - val_loss: 139.8050 - val_mae: 10.0941\n",
            "Epoch 71/200\n",
            "17/17 [==============================] - 0s 4ms/step - loss: 135.0254 - mae: 9.4411 - val_loss: 140.3190 - val_mae: 10.1124\n",
            "Epoch 72/200\n",
            "17/17 [==============================] - 0s 4ms/step - loss: 143.9356 - mae: 9.6507 - val_loss: 140.5082 - val_mae: 10.1262\n",
            "Epoch 73/200\n",
            "17/17 [==============================] - 0s 4ms/step - loss: 142.3419 - mae: 9.6598 - val_loss: 137.8899 - val_mae: 10.0328\n",
            "Epoch 74/200\n",
            "17/17 [==============================] - 0s 4ms/step - loss: 148.4650 - mae: 9.8981 - val_loss: 138.1268 - val_mae: 10.0252\n",
            "Epoch 75/200\n",
            "17/17 [==============================] - 0s 4ms/step - loss: 136.6383 - mae: 9.3702 - val_loss: 135.3811 - val_mae: 9.9606\n",
            "Epoch 76/200\n",
            "17/17 [==============================] - 0s 4ms/step - loss: 131.3326 - mae: 9.3493 - val_loss: 135.6051 - val_mae: 9.9786\n",
            "Epoch 77/200\n",
            "17/17 [==============================] - 0s 4ms/step - loss: 133.6259 - mae: 9.4666 - val_loss: 134.7574 - val_mae: 9.9538\n",
            "Epoch 78/200\n",
            "17/17 [==============================] - 0s 4ms/step - loss: 137.6985 - mae: 9.4735 - val_loss: 136.4752 - val_mae: 10.0288\n",
            "Epoch 79/200\n",
            "17/17 [==============================] - 0s 4ms/step - loss: 125.2118 - mae: 8.9150 - val_loss: 141.4963 - val_mae: 10.1830\n",
            "Epoch 80/200\n",
            "17/17 [==============================] - 0s 4ms/step - loss: 141.0979 - mae: 9.5409 - val_loss: 143.2826 - val_mae: 10.2236\n",
            "Epoch 81/200\n",
            "17/17 [==============================] - 0s 4ms/step - loss: 133.7678 - mae: 9.3844 - val_loss: 143.9708 - val_mae: 10.2288\n",
            "Epoch 82/200\n",
            "17/17 [==============================] - 0s 4ms/step - loss: 137.1295 - mae: 9.5558 - val_loss: 138.4801 - val_mae: 10.0534\n",
            "Epoch 83/200\n",
            "17/17 [==============================] - 0s 4ms/step - loss: 130.5808 - mae: 9.3611 - val_loss: 139.7385 - val_mae: 10.1189\n",
            "Epoch 84/200\n",
            "17/17 [==============================] - 0s 4ms/step - loss: 133.5015 - mae: 9.3348 - val_loss: 142.4767 - val_mae: 10.2062\n",
            "Epoch 85/200\n",
            "17/17 [==============================] - 0s 4ms/step - loss: 129.5617 - mae: 9.0845 - val_loss: 140.4082 - val_mae: 10.1469\n",
            "Epoch 86/200\n",
            "17/17 [==============================] - 0s 4ms/step - loss: 140.8971 - mae: 9.5846 - val_loss: 146.7431 - val_mae: 10.3367\n",
            "Epoch 87/200\n",
            "17/17 [==============================] - 0s 4ms/step - loss: 140.3727 - mae: 9.5572 - val_loss: 152.0117 - val_mae: 10.4778\n",
            "Epoch 88/200\n",
            "17/17 [==============================] - 0s 5ms/step - loss: 143.7396 - mae: 9.7040 - val_loss: 147.7697 - val_mae: 10.3662\n",
            "Epoch 89/200\n",
            "17/17 [==============================] - 0s 4ms/step - loss: 127.4122 - mae: 9.2109 - val_loss: 144.7777 - val_mae: 10.2904\n",
            "Epoch 90/200\n",
            "17/17 [==============================] - 0s 4ms/step - loss: 140.4933 - mae: 9.6682 - val_loss: 147.7256 - val_mae: 10.3541\n",
            "Epoch 91/200\n",
            "17/17 [==============================] - 0s 4ms/step - loss: 140.6696 - mae: 9.5014 - val_loss: 146.1449 - val_mae: 10.3092\n",
            "Epoch 92/200\n",
            "17/17 [==============================] - 0s 4ms/step - loss: 133.2076 - mae: 9.1727 - val_loss: 143.4846 - val_mae: 10.2420\n",
            "Epoch 93/200\n",
            "17/17 [==============================] - 0s 4ms/step - loss: 132.1811 - mae: 9.3618 - val_loss: 148.2651 - val_mae: 10.3477\n",
            "Epoch 94/200\n",
            "17/17 [==============================] - 0s 4ms/step - loss: 145.7383 - mae: 9.6907 - val_loss: 154.6035 - val_mae: 10.5220\n",
            "Epoch 95/200\n",
            "17/17 [==============================] - 0s 4ms/step - loss: 129.0261 - mae: 9.2626 - val_loss: 149.2875 - val_mae: 10.3547\n",
            "Epoch 96/200\n",
            "17/17 [==============================] - 0s 4ms/step - loss: 137.0858 - mae: 9.4482 - val_loss: 147.0464 - val_mae: 10.2971\n",
            "Epoch 97/200\n",
            "17/17 [==============================] - 0s 5ms/step - loss: 133.2228 - mae: 9.3472 - val_loss: 150.6642 - val_mae: 10.4053\n",
            "Epoch 98/200\n",
            "17/17 [==============================] - 0s 4ms/step - loss: 126.5666 - mae: 8.9635 - val_loss: 153.3710 - val_mae: 10.4868\n",
            "Epoch 99/200\n",
            "17/17 [==============================] - 0s 4ms/step - loss: 144.8141 - mae: 9.7621 - val_loss: 148.5531 - val_mae: 10.3678\n",
            "Epoch 100/200\n",
            "17/17 [==============================] - 0s 4ms/step - loss: 121.4605 - mae: 8.8975 - val_loss: 148.6438 - val_mae: 10.3617\n",
            "Epoch 101/200\n",
            "17/17 [==============================] - 0s 4ms/step - loss: 129.6059 - mae: 9.0831 - val_loss: 153.7858 - val_mae: 10.5104\n",
            "Epoch 102/200\n",
            "17/17 [==============================] - 0s 4ms/step - loss: 123.7049 - mae: 9.0285 - val_loss: 151.2067 - val_mae: 10.4458\n",
            "Epoch 103/200\n",
            "17/17 [==============================] - 0s 4ms/step - loss: 133.1733 - mae: 9.3966 - val_loss: 157.6017 - val_mae: 10.5992\n",
            "Epoch 104/200\n",
            "17/17 [==============================] - 0s 4ms/step - loss: 131.4709 - mae: 9.2616 - val_loss: 154.0514 - val_mae: 10.4850\n",
            "Epoch 105/200\n",
            "17/17 [==============================] - 0s 4ms/step - loss: 137.0251 - mae: 9.4657 - val_loss: 151.7891 - val_mae: 10.4319\n",
            "Epoch 106/200\n",
            "17/17 [==============================] - 0s 4ms/step - loss: 131.8777 - mae: 9.3124 - val_loss: 150.3016 - val_mae: 10.3724\n",
            "Epoch 107/200\n",
            "17/17 [==============================] - 0s 4ms/step - loss: 129.5547 - mae: 9.2104 - val_loss: 153.2976 - val_mae: 10.4537\n",
            "Epoch 108/200\n",
            "17/17 [==============================] - 0s 4ms/step - loss: 126.8752 - mae: 9.2153 - val_loss: 151.8970 - val_mae: 10.4271\n",
            "Epoch 109/200\n",
            "17/17 [==============================] - 0s 4ms/step - loss: 135.0027 - mae: 9.3941 - val_loss: 156.1588 - val_mae: 10.5722\n",
            "Epoch 110/200\n",
            "17/17 [==============================] - 0s 4ms/step - loss: 130.8256 - mae: 9.3166 - val_loss: 159.0409 - val_mae: 10.6381\n",
            "Epoch 111/200\n",
            "17/17 [==============================] - 0s 4ms/step - loss: 137.0502 - mae: 9.2671 - val_loss: 162.4657 - val_mae: 10.7135\n",
            "Epoch 112/200\n",
            "17/17 [==============================] - 0s 4ms/step - loss: 123.5134 - mae: 8.9778 - val_loss: 160.2575 - val_mae: 10.6601\n",
            "Epoch 113/200\n",
            "17/17 [==============================] - 0s 4ms/step - loss: 134.5773 - mae: 9.4013 - val_loss: 165.3368 - val_mae: 10.7757\n",
            "Epoch 114/200\n",
            "17/17 [==============================] - 0s 4ms/step - loss: 133.3650 - mae: 9.3796 - val_loss: 166.8796 - val_mae: 10.8089\n",
            "Epoch 115/200\n",
            "17/17 [==============================] - 0s 4ms/step - loss: 123.6676 - mae: 8.9468 - val_loss: 162.8662 - val_mae: 10.7104\n",
            "Epoch 116/200\n",
            "17/17 [==============================] - 0s 4ms/step - loss: 122.8103 - mae: 8.8071 - val_loss: 158.5300 - val_mae: 10.5972\n",
            "Epoch 117/200\n",
            "17/17 [==============================] - 0s 4ms/step - loss: 133.0561 - mae: 9.4382 - val_loss: 160.4914 - val_mae: 10.6519\n",
            "Epoch 118/200\n",
            "17/17 [==============================] - 0s 4ms/step - loss: 130.4598 - mae: 9.3514 - val_loss: 159.0484 - val_mae: 10.5987\n",
            "Epoch 119/200\n",
            "17/17 [==============================] - 0s 4ms/step - loss: 138.3617 - mae: 9.5456 - val_loss: 163.8949 - val_mae: 10.7064\n",
            "Epoch 120/200\n",
            "17/17 [==============================] - 0s 4ms/step - loss: 128.9490 - mae: 9.0354 - val_loss: 164.5953 - val_mae: 10.7227\n",
            "Epoch 121/200\n",
            "17/17 [==============================] - 0s 4ms/step - loss: 132.9248 - mae: 9.2761 - val_loss: 167.1617 - val_mae: 10.7789\n",
            "Epoch 122/200\n",
            "17/17 [==============================] - 0s 4ms/step - loss: 131.2709 - mae: 9.2156 - val_loss: 169.1559 - val_mae: 10.8424\n",
            "Epoch 123/200\n",
            "17/17 [==============================] - 0s 5ms/step - loss: 132.7888 - mae: 9.1911 - val_loss: 174.2291 - val_mae: 10.9597\n",
            "Epoch 124/200\n",
            "17/17 [==============================] - 0s 4ms/step - loss: 120.9452 - mae: 8.7591 - val_loss: 170.3105 - val_mae: 10.8549\n",
            "Epoch 125/200\n",
            "17/17 [==============================] - 0s 4ms/step - loss: 133.7148 - mae: 9.2916 - val_loss: 169.5972 - val_mae: 10.8395\n",
            "Epoch 126/200\n",
            "17/17 [==============================] - 0s 4ms/step - loss: 125.0624 - mae: 8.9825 - val_loss: 171.4881 - val_mae: 10.8927\n",
            "Epoch 127/200\n",
            "17/17 [==============================] - 0s 4ms/step - loss: 121.5136 - mae: 8.7842 - val_loss: 170.9193 - val_mae: 10.8856\n",
            "Epoch 128/200\n",
            "17/17 [==============================] - 0s 4ms/step - loss: 127.7269 - mae: 9.1166 - val_loss: 165.5465 - val_mae: 10.7469\n",
            "Epoch 129/200\n",
            "17/17 [==============================] - 0s 5ms/step - loss: 121.4882 - mae: 9.0150 - val_loss: 166.5209 - val_mae: 10.7479\n",
            "Epoch 130/200\n",
            "17/17 [==============================] - 0s 4ms/step - loss: 111.1013 - mae: 8.3828 - val_loss: 168.8684 - val_mae: 10.7882\n",
            "Epoch 131/200\n",
            "17/17 [==============================] - 0s 4ms/step - loss: 131.7296 - mae: 9.4462 - val_loss: 167.1087 - val_mae: 10.7408\n",
            "Epoch 132/200\n",
            "17/17 [==============================] - 0s 4ms/step - loss: 132.7100 - mae: 9.3857 - val_loss: 169.7895 - val_mae: 10.8032\n",
            "Epoch 133/200\n",
            "17/17 [==============================] - 0s 4ms/step - loss: 129.2956 - mae: 9.2017 - val_loss: 177.9175 - val_mae: 10.9838\n",
            "Epoch 134/200\n",
            "17/17 [==============================] - 0s 4ms/step - loss: 131.8220 - mae: 9.1621 - val_loss: 170.8099 - val_mae: 10.8333\n",
            "Epoch 135/200\n",
            "17/17 [==============================] - 0s 4ms/step - loss: 128.0366 - mae: 9.1934 - val_loss: 170.8508 - val_mae: 10.8457\n",
            "Epoch 136/200\n",
            "17/17 [==============================] - 0s 4ms/step - loss: 124.1624 - mae: 9.1846 - val_loss: 171.2020 - val_mae: 10.8594\n",
            "Epoch 137/200\n",
            "17/17 [==============================] - 0s 4ms/step - loss: 127.0082 - mae: 9.1869 - val_loss: 171.3367 - val_mae: 10.8385\n",
            "Epoch 138/200\n",
            "17/17 [==============================] - 0s 4ms/step - loss: 120.0348 - mae: 8.8724 - val_loss: 173.7413 - val_mae: 10.9101\n",
            "Epoch 139/200\n",
            "17/17 [==============================] - 0s 4ms/step - loss: 125.3619 - mae: 8.9914 - val_loss: 182.7998 - val_mae: 11.1158\n",
            "Epoch 140/200\n",
            "17/17 [==============================] - 0s 4ms/step - loss: 119.8262 - mae: 8.8021 - val_loss: 178.7758 - val_mae: 11.0108\n",
            "Epoch 141/200\n",
            "17/17 [==============================] - 0s 4ms/step - loss: 137.4701 - mae: 9.5126 - val_loss: 170.3387 - val_mae: 10.8103\n",
            "Epoch 142/200\n",
            "17/17 [==============================] - 0s 4ms/step - loss: 131.6077 - mae: 9.2134 - val_loss: 175.2913 - val_mae: 10.9236\n",
            "Epoch 143/200\n",
            "17/17 [==============================] - 0s 4ms/step - loss: 119.9624 - mae: 8.7042 - val_loss: 177.7305 - val_mae: 10.9594\n",
            "Epoch 144/200\n",
            "17/17 [==============================] - 0s 4ms/step - loss: 121.8771 - mae: 8.9188 - val_loss: 178.7977 - val_mae: 10.9969\n",
            "Epoch 145/200\n",
            "17/17 [==============================] - 0s 4ms/step - loss: 127.2523 - mae: 9.1085 - val_loss: 187.0507 - val_mae: 11.1903\n",
            "Epoch 146/200\n",
            "17/17 [==============================] - 0s 4ms/step - loss: 129.8803 - mae: 9.1238 - val_loss: 177.7808 - val_mae: 10.9722\n",
            "Epoch 147/200\n",
            "17/17 [==============================] - 0s 4ms/step - loss: 125.3023 - mae: 9.0178 - val_loss: 177.0068 - val_mae: 10.9367\n",
            "Epoch 148/200\n",
            "17/17 [==============================] - 0s 4ms/step - loss: 126.6399 - mae: 9.1247 - val_loss: 176.6794 - val_mae: 10.9428\n",
            "Epoch 149/200\n",
            "17/17 [==============================] - 0s 4ms/step - loss: 130.5743 - mae: 9.0909 - val_loss: 189.0515 - val_mae: 11.2358\n",
            "Epoch 150/200\n",
            "17/17 [==============================] - 0s 4ms/step - loss: 122.7958 - mae: 8.9108 - val_loss: 182.5960 - val_mae: 11.0741\n",
            "Epoch 151/200\n",
            "17/17 [==============================] - 0s 4ms/step - loss: 115.7355 - mae: 8.6693 - val_loss: 180.2135 - val_mae: 11.0189\n",
            "Epoch 152/200\n",
            "17/17 [==============================] - 0s 4ms/step - loss: 125.6639 - mae: 9.0822 - val_loss: 185.8121 - val_mae: 11.1635\n",
            "Epoch 153/200\n",
            "17/17 [==============================] - 0s 4ms/step - loss: 120.9361 - mae: 8.7812 - val_loss: 182.0685 - val_mae: 11.0586\n",
            "Epoch 154/200\n",
            "17/17 [==============================] - 0s 4ms/step - loss: 123.5264 - mae: 8.9610 - val_loss: 186.5020 - val_mae: 11.1693\n",
            "Epoch 155/200\n",
            "17/17 [==============================] - 0s 4ms/step - loss: 133.8657 - mae: 9.3530 - val_loss: 185.5553 - val_mae: 11.1494\n",
            "Epoch 156/200\n",
            "17/17 [==============================] - 0s 4ms/step - loss: 121.0963 - mae: 8.9171 - val_loss: 180.2258 - val_mae: 11.0128\n",
            "Epoch 157/200\n",
            "17/17 [==============================] - 0s 4ms/step - loss: 122.4041 - mae: 8.8671 - val_loss: 187.7176 - val_mae: 11.1716\n",
            "Epoch 158/200\n",
            "17/17 [==============================] - 0s 4ms/step - loss: 128.6670 - mae: 9.1674 - val_loss: 180.5762 - val_mae: 11.0141\n",
            "Epoch 159/200\n",
            "17/17 [==============================] - 0s 5ms/step - loss: 123.0044 - mae: 8.9293 - val_loss: 187.5551 - val_mae: 11.1804\n",
            "Epoch 160/200\n",
            "17/17 [==============================] - 0s 4ms/step - loss: 124.2062 - mae: 9.0014 - val_loss: 192.5309 - val_mae: 11.2752\n",
            "Epoch 161/200\n",
            "17/17 [==============================] - 0s 5ms/step - loss: 131.6077 - mae: 9.1378 - val_loss: 192.8975 - val_mae: 11.2963\n",
            "Epoch 162/200\n",
            "17/17 [==============================] - 0s 4ms/step - loss: 125.4981 - mae: 9.1925 - val_loss: 198.1441 - val_mae: 11.4029\n",
            "Epoch 163/200\n",
            "17/17 [==============================] - 0s 4ms/step - loss: 116.6882 - mae: 8.6351 - val_loss: 189.6843 - val_mae: 11.1962\n",
            "Epoch 164/200\n",
            "17/17 [==============================] - 0s 4ms/step - loss: 117.5013 - mae: 8.6962 - val_loss: 196.4279 - val_mae: 11.3530\n",
            "Epoch 165/200\n",
            "17/17 [==============================] - 0s 4ms/step - loss: 127.8330 - mae: 9.0800 - val_loss: 203.0352 - val_mae: 11.5103\n",
            "Epoch 166/200\n",
            "17/17 [==============================] - 0s 4ms/step - loss: 122.2340 - mae: 8.8935 - val_loss: 191.6965 - val_mae: 11.2476\n",
            "Epoch 167/200\n",
            "17/17 [==============================] - 0s 4ms/step - loss: 116.5951 - mae: 8.6679 - val_loss: 191.2890 - val_mae: 11.2306\n",
            "Epoch 168/200\n",
            "17/17 [==============================] - 0s 4ms/step - loss: 119.3339 - mae: 8.8318 - val_loss: 191.1373 - val_mae: 11.2326\n",
            "Epoch 169/200\n",
            "17/17 [==============================] - 0s 4ms/step - loss: 128.8655 - mae: 9.2047 - val_loss: 197.5848 - val_mae: 11.3568\n",
            "Epoch 170/200\n",
            "17/17 [==============================] - 0s 4ms/step - loss: 122.8888 - mae: 8.9880 - val_loss: 206.7303 - val_mae: 11.5681\n",
            "Epoch 171/200\n",
            "17/17 [==============================] - 0s 5ms/step - loss: 116.2980 - mae: 8.7092 - val_loss: 206.9079 - val_mae: 11.5766\n",
            "Epoch 172/200\n",
            "17/17 [==============================] - 0s 4ms/step - loss: 121.8952 - mae: 8.7887 - val_loss: 193.1131 - val_mae: 11.2553\n",
            "Epoch 173/200\n",
            "17/17 [==============================] - 0s 4ms/step - loss: 126.1947 - mae: 9.0197 - val_loss: 202.7129 - val_mae: 11.4842\n",
            "Epoch 174/200\n",
            "17/17 [==============================] - 0s 4ms/step - loss: 111.8500 - mae: 8.4936 - val_loss: 200.7189 - val_mae: 11.4248\n",
            "Epoch 175/200\n",
            "17/17 [==============================] - 0s 4ms/step - loss: 116.0799 - mae: 8.7359 - val_loss: 196.5667 - val_mae: 11.3286\n",
            "Epoch 176/200\n",
            "17/17 [==============================] - 0s 5ms/step - loss: 120.2827 - mae: 8.8376 - val_loss: 201.8564 - val_mae: 11.4442\n",
            "Epoch 177/200\n",
            "17/17 [==============================] - 0s 4ms/step - loss: 121.4702 - mae: 8.8461 - val_loss: 202.5840 - val_mae: 11.4623\n",
            "Epoch 178/200\n",
            "17/17 [==============================] - 0s 4ms/step - loss: 123.0395 - mae: 8.8633 - val_loss: 204.3643 - val_mae: 11.5105\n",
            "Epoch 179/200\n",
            "17/17 [==============================] - 0s 4ms/step - loss: 118.3249 - mae: 8.7325 - val_loss: 198.3187 - val_mae: 11.3594\n",
            "Epoch 180/200\n",
            "17/17 [==============================] - 0s 5ms/step - loss: 122.4998 - mae: 8.7776 - val_loss: 203.7219 - val_mae: 11.4899\n",
            "Epoch 181/200\n",
            "17/17 [==============================] - 0s 4ms/step - loss: 124.5836 - mae: 8.8601 - val_loss: 199.4666 - val_mae: 11.3931\n",
            "Epoch 182/200\n",
            "17/17 [==============================] - 0s 4ms/step - loss: 117.4665 - mae: 8.6275 - val_loss: 199.5573 - val_mae: 11.3839\n",
            "Epoch 183/200\n",
            "17/17 [==============================] - 0s 4ms/step - loss: 123.7322 - mae: 8.9526 - val_loss: 201.3946 - val_mae: 11.4237\n",
            "Epoch 184/200\n",
            "17/17 [==============================] - 0s 5ms/step - loss: 129.3869 - mae: 9.1343 - val_loss: 205.1449 - val_mae: 11.5155\n",
            "Epoch 185/200\n",
            "17/17 [==============================] - 0s 4ms/step - loss: 118.4446 - mae: 8.8313 - val_loss: 209.5771 - val_mae: 11.6271\n",
            "Epoch 186/200\n",
            "17/17 [==============================] - 0s 4ms/step - loss: 105.9204 - mae: 8.1181 - val_loss: 203.6602 - val_mae: 11.4680\n",
            "Epoch 187/200\n",
            "17/17 [==============================] - 0s 4ms/step - loss: 121.1879 - mae: 8.6625 - val_loss: 202.7285 - val_mae: 11.4540\n",
            "Epoch 188/200\n",
            "17/17 [==============================] - 0s 4ms/step - loss: 127.6171 - mae: 9.1987 - val_loss: 217.9863 - val_mae: 11.8167\n",
            "Epoch 189/200\n",
            "17/17 [==============================] - 0s 4ms/step - loss: 117.1785 - mae: 8.6380 - val_loss: 218.1712 - val_mae: 11.8137\n",
            "Epoch 190/200\n",
            "17/17 [==============================] - 0s 4ms/step - loss: 133.6369 - mae: 9.2321 - val_loss: 215.1062 - val_mae: 11.7550\n",
            "Epoch 191/200\n",
            "17/17 [==============================] - 0s 4ms/step - loss: 119.5671 - mae: 8.7222 - val_loss: 220.7584 - val_mae: 11.8961\n",
            "Epoch 192/200\n",
            "17/17 [==============================] - 0s 4ms/step - loss: 111.2732 - mae: 8.5279 - val_loss: 217.4925 - val_mae: 11.8077\n",
            "Epoch 193/200\n",
            "17/17 [==============================] - 0s 4ms/step - loss: 112.4729 - mae: 8.3418 - val_loss: 212.0558 - val_mae: 11.6679\n",
            "Epoch 194/200\n",
            "17/17 [==============================] - 0s 4ms/step - loss: 119.4729 - mae: 8.7405 - val_loss: 214.0124 - val_mae: 11.7086\n",
            "Epoch 195/200\n",
            "17/17 [==============================] - 0s 4ms/step - loss: 116.5268 - mae: 8.6384 - val_loss: 212.3788 - val_mae: 11.6625\n",
            "Epoch 196/200\n",
            "17/17 [==============================] - 0s 5ms/step - loss: 111.4462 - mae: 8.6146 - val_loss: 217.1703 - val_mae: 11.7612\n",
            "Epoch 197/200\n",
            "17/17 [==============================] - 0s 5ms/step - loss: 126.9739 - mae: 8.9121 - val_loss: 221.8288 - val_mae: 11.8577\n",
            "Epoch 198/200\n",
            "17/17 [==============================] - 0s 4ms/step - loss: 117.9572 - mae: 8.7260 - val_loss: 224.1782 - val_mae: 11.9150\n",
            "Epoch 199/200\n",
            "17/17 [==============================] - 0s 4ms/step - loss: 114.9732 - mae: 8.6117 - val_loss: 226.0655 - val_mae: 11.9714\n",
            "Epoch 200/200\n",
            "17/17 [==============================] - 0s 4ms/step - loss: 115.0506 - mae: 8.6038 - val_loss: 224.5336 - val_mae: 11.9453\n"
          ],
          "name": "stdout"
        }
      ]
    },
    {
      "cell_type": "markdown",
      "metadata": {
        "id": "TEYOPEgSFEmh"
      },
      "source": [
        "# Evaluation"
      ]
    },
    {
      "cell_type": "code",
      "metadata": {
        "colab": {
          "base_uri": "https://localhost:8080/"
        },
        "id": "vSFGZeC8FHp8",
        "outputId": "333fbf04-c37a-4029-c2a4-6a2c8f984121"
      },
      "source": [
        "\n",
        "loss, mae = model.evaluate(x_test, y_test)\n"
      ],
      "execution_count": null,
      "outputs": [
        {
          "output_type": "stream",
          "text": [
            "10/10 [==============================] - 0s 2ms/step - loss: 226.3324 - mae: 11.9764\n"
          ],
          "name": "stdout"
        }
      ]
    },
    {
      "cell_type": "code",
      "metadata": {
        "colab": {
          "base_uri": "https://localhost:8080/"
        },
        "id": "buHMke0HFapK",
        "outputId": "17c1f9fb-cf09-40e3-d6e2-df6af1b78b1e"
      },
      "source": [
        "loss, mae"
      ],
      "execution_count": null,
      "outputs": [
        {
          "output_type": "execute_result",
          "data": {
            "text/plain": [
              "(226.33242797851562, 11.976364135742188)"
            ]
          },
          "metadata": {
            "tags": []
          },
          "execution_count": 19
        }
      ]
    },
    {
      "cell_type": "code",
      "metadata": {
        "colab": {
          "base_uri": "https://localhost:8080/"
        },
        "id": "qZoK1tXvFXAy",
        "outputId": "4ffd576e-a842-4e9f-a247-bf31b186a029"
      },
      "source": [
        "validation = model.evaluate(x_val, y_val)"
      ],
      "execution_count": null,
      "outputs": [
        {
          "output_type": "stream",
          "text": [
            "7/7 [==============================] - 0s 2ms/step - loss: 224.5336 - mae: 11.9453\n"
          ],
          "name": "stdout"
        }
      ]
    },
    {
      "cell_type": "code",
      "metadata": {
        "id": "LtNnfsrTFbNs"
      },
      "source": [
        ""
      ],
      "execution_count": null,
      "outputs": []
    },
    {
      "cell_type": "markdown",
      "metadata": {
        "id": "pOAkg2BnFINb"
      },
      "source": [
        "#Prediction"
      ]
    },
    {
      "cell_type": "code",
      "metadata": {
        "id": "EPmR8_ZKFKbO",
        "colab": {
          "base_uri": "https://localhost:8080/"
        },
        "outputId": "74dae3f8-9457-4cf2-87ac-940cb63aea1b"
      },
      "source": [
        "pred = model.predict(x_test[0:5])\n",
        "pred"
      ],
      "execution_count": null,
      "outputs": [
        {
          "output_type": "execute_result",
          "data": {
            "text/plain": [
              "array([[28.876652],\n",
              "       [26.91268 ],\n",
              "       [27.20274 ],\n",
              "       [31.25849 ],\n",
              "       [40.394703]], dtype=float32)"
            ]
          },
          "metadata": {
            "tags": []
          },
          "execution_count": 35
        }
      ]
    }
  ]
}